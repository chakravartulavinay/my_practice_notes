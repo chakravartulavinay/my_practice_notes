{
  "cells": [
    {
      "cell_type": "markdown",
      "metadata": {
        "id": "view-in-github",
        "colab_type": "text"
      },
      "source": [
        "<a href=\"https://colab.research.google.com/github/chakravartulavinay/my_practice_notes/blob/main/Copy_of_Capstone_Project(Hepatitis).ipynb\" target=\"_parent\"><img src=\"https://colab.research.google.com/assets/colab-badge.svg\" alt=\"Open In Colab\"/></a>"
      ]
    },
    {
      "cell_type": "code",
      "execution_count": null,
      "metadata": {
        "id": "qwmlxhk4SeU_"
      },
      "outputs": [],
      "source": [
        "import pandas as pd\n",
        "import matplotlib.pyplot as plt\n",
        "import matplotlib.pyplot as plt\n",
        "import seaborn as sns\n",
        "import statsmodels.formula.api as smf\n",
        "import statistics as st\n",
        "import numpy as np"
      ]
    },
    {
      "cell_type": "code",
      "execution_count": null,
      "metadata": {
        "id": "89NAK3afSkUX"
      },
      "outputs": [],
      "source": [
        "\n",
        "null_values=[\"?\",]\n",
        "df = pd.read_csv('https://archive.ics.uci.edu/ml/machine-learning-databases/hepatitis/hepatitis.data',index_col=False,na_values=null_values,\n",
        "                  names=[\"Class\",\"AGE\",\"SEX\",\"STEROID\",\"ANTIVIRALS\",\"FATIGUE\",\"MALAISE\",\"ANOREXIA\",\"LIVER_BIG\",\"LIVER_FIRM\",\"SPLEEN_PALPABLE\",\"SPIDERS\",\"ASCITES\",\"VARICES\",\"BILIRUBIN\",\"ALK_PHOSPHATE\",\"SGOT\",\"ALBUMIN\",\"PROTIME\",\"HISTOLOGY\"],)\n",
        "\n"
      ]
    },
    {
      "cell_type": "code",
      "execution_count": null,
      "metadata": {
        "colab": {
          "base_uri": "https://localhost:8080/"
        },
        "id": "gGu88oxS2jBX",
        "outputId": "8d6d35d1-80c9-43ae-9939-aa4ca8c5e4c6"
      },
      "outputs": [
        {
          "output_type": "execute_result",
          "data": {
            "text/plain": [
              "(155, 20)"
            ]
          },
          "metadata": {},
          "execution_count": 5
        }
      ],
      "source": [
        "df.shape"
      ]
    },
    {
      "cell_type": "code",
      "execution_count": null,
      "metadata": {
        "colab": {
          "base_uri": "https://localhost:8080/",
          "height": 487
        },
        "id": "3NpQ_y-fZ_-t",
        "outputId": "e0dfdbe8-b078-47b1-bfc4-9659a0b42e03"
      },
      "outputs": [
        {
          "output_type": "execute_result",
          "data": {
            "text/plain": [
              "     Class  AGE  SEX  STEROID  ANTIVIRALS  FATIGUE  MALAISE  ANOREXIA  \\\n",
              "0        2   30    2      1.0           2      2.0      2.0       2.0   \n",
              "1        2   50    1      1.0           2      1.0      2.0       2.0   \n",
              "2        2   78    1      2.0           2      1.0      2.0       2.0   \n",
              "3        2   31    1      NaN           1      2.0      2.0       2.0   \n",
              "4        2   34    1      2.0           2      2.0      2.0       2.0   \n",
              "..     ...  ...  ...      ...         ...      ...      ...       ...   \n",
              "150      1   46    1      2.0           2      1.0      1.0       1.0   \n",
              "151      2   44    1      2.0           2      1.0      2.0       2.0   \n",
              "152      2   61    1      1.0           2      1.0      1.0       2.0   \n",
              "153      2   53    2      1.0           2      1.0      2.0       2.0   \n",
              "154      1   43    1      2.0           2      1.0      2.0       2.0   \n",
              "\n",
              "     LIVER_BIG  LIVER_FIRM  SPLEEN_PALPABLE  SPIDERS  ASCITES  VARICES  \\\n",
              "0          1.0         2.0              2.0      2.0      2.0      2.0   \n",
              "1          1.0         2.0              2.0      2.0      2.0      2.0   \n",
              "2          2.0         2.0              2.0      2.0      2.0      2.0   \n",
              "3          2.0         2.0              2.0      2.0      2.0      2.0   \n",
              "4          2.0         2.0              2.0      2.0      2.0      2.0   \n",
              "..         ...         ...              ...      ...      ...      ...   \n",
              "150        2.0         2.0              2.0      1.0      1.0      1.0   \n",
              "151        2.0         1.0              2.0      2.0      2.0      2.0   \n",
              "152        1.0         1.0              2.0      1.0      2.0      2.0   \n",
              "153        2.0         2.0              1.0      1.0      2.0      1.0   \n",
              "154        2.0         2.0              1.0      1.0      1.0      2.0   \n",
              "\n",
              "     BILIRUBIN  ALK_PHOSPHATE   SGOT  ALBUMIN  PROTIME  HISTOLOGY  \n",
              "0          1.0           85.0   18.0      4.0      NaN          1  \n",
              "1          0.9          135.0   42.0      3.5      NaN          1  \n",
              "2          0.7           96.0   32.0      4.0      NaN          1  \n",
              "3          0.7           46.0   52.0      4.0     80.0          1  \n",
              "4          1.0            NaN  200.0      4.0      NaN          1  \n",
              "..         ...            ...    ...      ...      ...        ...  \n",
              "150        7.6            NaN  242.0      3.3     50.0          2  \n",
              "151        0.9          126.0  142.0      4.3      NaN          2  \n",
              "152        0.8           75.0   20.0      4.1      NaN          2  \n",
              "153        1.5           81.0   19.0      4.1     48.0          2  \n",
              "154        1.2          100.0   19.0      3.1     42.0          2  \n",
              "\n",
              "[155 rows x 20 columns]"
            ],
            "text/html": [
              "\n",
              "\n",
              "  <div id=\"df-55e62df2-c29d-41fb-a466-ce2e514e80cd\">\n",
              "    <div class=\"colab-df-container\">\n",
              "      <div>\n",
              "<style scoped>\n",
              "    .dataframe tbody tr th:only-of-type {\n",
              "        vertical-align: middle;\n",
              "    }\n",
              "\n",
              "    .dataframe tbody tr th {\n",
              "        vertical-align: top;\n",
              "    }\n",
              "\n",
              "    .dataframe thead th {\n",
              "        text-align: right;\n",
              "    }\n",
              "</style>\n",
              "<table border=\"1\" class=\"dataframe\">\n",
              "  <thead>\n",
              "    <tr style=\"text-align: right;\">\n",
              "      <th></th>\n",
              "      <th>Class</th>\n",
              "      <th>AGE</th>\n",
              "      <th>SEX</th>\n",
              "      <th>STEROID</th>\n",
              "      <th>ANTIVIRALS</th>\n",
              "      <th>FATIGUE</th>\n",
              "      <th>MALAISE</th>\n",
              "      <th>ANOREXIA</th>\n",
              "      <th>LIVER_BIG</th>\n",
              "      <th>LIVER_FIRM</th>\n",
              "      <th>SPLEEN_PALPABLE</th>\n",
              "      <th>SPIDERS</th>\n",
              "      <th>ASCITES</th>\n",
              "      <th>VARICES</th>\n",
              "      <th>BILIRUBIN</th>\n",
              "      <th>ALK_PHOSPHATE</th>\n",
              "      <th>SGOT</th>\n",
              "      <th>ALBUMIN</th>\n",
              "      <th>PROTIME</th>\n",
              "      <th>HISTOLOGY</th>\n",
              "    </tr>\n",
              "  </thead>\n",
              "  <tbody>\n",
              "    <tr>\n",
              "      <th>0</th>\n",
              "      <td>2</td>\n",
              "      <td>30</td>\n",
              "      <td>2</td>\n",
              "      <td>1.0</td>\n",
              "      <td>2</td>\n",
              "      <td>2.0</td>\n",
              "      <td>2.0</td>\n",
              "      <td>2.0</td>\n",
              "      <td>1.0</td>\n",
              "      <td>2.0</td>\n",
              "      <td>2.0</td>\n",
              "      <td>2.0</td>\n",
              "      <td>2.0</td>\n",
              "      <td>2.0</td>\n",
              "      <td>1.0</td>\n",
              "      <td>85.0</td>\n",
              "      <td>18.0</td>\n",
              "      <td>4.0</td>\n",
              "      <td>NaN</td>\n",
              "      <td>1</td>\n",
              "    </tr>\n",
              "    <tr>\n",
              "      <th>1</th>\n",
              "      <td>2</td>\n",
              "      <td>50</td>\n",
              "      <td>1</td>\n",
              "      <td>1.0</td>\n",
              "      <td>2</td>\n",
              "      <td>1.0</td>\n",
              "      <td>2.0</td>\n",
              "      <td>2.0</td>\n",
              "      <td>1.0</td>\n",
              "      <td>2.0</td>\n",
              "      <td>2.0</td>\n",
              "      <td>2.0</td>\n",
              "      <td>2.0</td>\n",
              "      <td>2.0</td>\n",
              "      <td>0.9</td>\n",
              "      <td>135.0</td>\n",
              "      <td>42.0</td>\n",
              "      <td>3.5</td>\n",
              "      <td>NaN</td>\n",
              "      <td>1</td>\n",
              "    </tr>\n",
              "    <tr>\n",
              "      <th>2</th>\n",
              "      <td>2</td>\n",
              "      <td>78</td>\n",
              "      <td>1</td>\n",
              "      <td>2.0</td>\n",
              "      <td>2</td>\n",
              "      <td>1.0</td>\n",
              "      <td>2.0</td>\n",
              "      <td>2.0</td>\n",
              "      <td>2.0</td>\n",
              "      <td>2.0</td>\n",
              "      <td>2.0</td>\n",
              "      <td>2.0</td>\n",
              "      <td>2.0</td>\n",
              "      <td>2.0</td>\n",
              "      <td>0.7</td>\n",
              "      <td>96.0</td>\n",
              "      <td>32.0</td>\n",
              "      <td>4.0</td>\n",
              "      <td>NaN</td>\n",
              "      <td>1</td>\n",
              "    </tr>\n",
              "    <tr>\n",
              "      <th>3</th>\n",
              "      <td>2</td>\n",
              "      <td>31</td>\n",
              "      <td>1</td>\n",
              "      <td>NaN</td>\n",
              "      <td>1</td>\n",
              "      <td>2.0</td>\n",
              "      <td>2.0</td>\n",
              "      <td>2.0</td>\n",
              "      <td>2.0</td>\n",
              "      <td>2.0</td>\n",
              "      <td>2.0</td>\n",
              "      <td>2.0</td>\n",
              "      <td>2.0</td>\n",
              "      <td>2.0</td>\n",
              "      <td>0.7</td>\n",
              "      <td>46.0</td>\n",
              "      <td>52.0</td>\n",
              "      <td>4.0</td>\n",
              "      <td>80.0</td>\n",
              "      <td>1</td>\n",
              "    </tr>\n",
              "    <tr>\n",
              "      <th>4</th>\n",
              "      <td>2</td>\n",
              "      <td>34</td>\n",
              "      <td>1</td>\n",
              "      <td>2.0</td>\n",
              "      <td>2</td>\n",
              "      <td>2.0</td>\n",
              "      <td>2.0</td>\n",
              "      <td>2.0</td>\n",
              "      <td>2.0</td>\n",
              "      <td>2.0</td>\n",
              "      <td>2.0</td>\n",
              "      <td>2.0</td>\n",
              "      <td>2.0</td>\n",
              "      <td>2.0</td>\n",
              "      <td>1.0</td>\n",
              "      <td>NaN</td>\n",
              "      <td>200.0</td>\n",
              "      <td>4.0</td>\n",
              "      <td>NaN</td>\n",
              "      <td>1</td>\n",
              "    </tr>\n",
              "    <tr>\n",
              "      <th>...</th>\n",
              "      <td>...</td>\n",
              "      <td>...</td>\n",
              "      <td>...</td>\n",
              "      <td>...</td>\n",
              "      <td>...</td>\n",
              "      <td>...</td>\n",
              "      <td>...</td>\n",
              "      <td>...</td>\n",
              "      <td>...</td>\n",
              "      <td>...</td>\n",
              "      <td>...</td>\n",
              "      <td>...</td>\n",
              "      <td>...</td>\n",
              "      <td>...</td>\n",
              "      <td>...</td>\n",
              "      <td>...</td>\n",
              "      <td>...</td>\n",
              "      <td>...</td>\n",
              "      <td>...</td>\n",
              "      <td>...</td>\n",
              "    </tr>\n",
              "    <tr>\n",
              "      <th>150</th>\n",
              "      <td>1</td>\n",
              "      <td>46</td>\n",
              "      <td>1</td>\n",
              "      <td>2.0</td>\n",
              "      <td>2</td>\n",
              "      <td>1.0</td>\n",
              "      <td>1.0</td>\n",
              "      <td>1.0</td>\n",
              "      <td>2.0</td>\n",
              "      <td>2.0</td>\n",
              "      <td>2.0</td>\n",
              "      <td>1.0</td>\n",
              "      <td>1.0</td>\n",
              "      <td>1.0</td>\n",
              "      <td>7.6</td>\n",
              "      <td>NaN</td>\n",
              "      <td>242.0</td>\n",
              "      <td>3.3</td>\n",
              "      <td>50.0</td>\n",
              "      <td>2</td>\n",
              "    </tr>\n",
              "    <tr>\n",
              "      <th>151</th>\n",
              "      <td>2</td>\n",
              "      <td>44</td>\n",
              "      <td>1</td>\n",
              "      <td>2.0</td>\n",
              "      <td>2</td>\n",
              "      <td>1.0</td>\n",
              "      <td>2.0</td>\n",
              "      <td>2.0</td>\n",
              "      <td>2.0</td>\n",
              "      <td>1.0</td>\n",
              "      <td>2.0</td>\n",
              "      <td>2.0</td>\n",
              "      <td>2.0</td>\n",
              "      <td>2.0</td>\n",
              "      <td>0.9</td>\n",
              "      <td>126.0</td>\n",
              "      <td>142.0</td>\n",
              "      <td>4.3</td>\n",
              "      <td>NaN</td>\n",
              "      <td>2</td>\n",
              "    </tr>\n",
              "    <tr>\n",
              "      <th>152</th>\n",
              "      <td>2</td>\n",
              "      <td>61</td>\n",
              "      <td>1</td>\n",
              "      <td>1.0</td>\n",
              "      <td>2</td>\n",
              "      <td>1.0</td>\n",
              "      <td>1.0</td>\n",
              "      <td>2.0</td>\n",
              "      <td>1.0</td>\n",
              "      <td>1.0</td>\n",
              "      <td>2.0</td>\n",
              "      <td>1.0</td>\n",
              "      <td>2.0</td>\n",
              "      <td>2.0</td>\n",
              "      <td>0.8</td>\n",
              "      <td>75.0</td>\n",
              "      <td>20.0</td>\n",
              "      <td>4.1</td>\n",
              "      <td>NaN</td>\n",
              "      <td>2</td>\n",
              "    </tr>\n",
              "    <tr>\n",
              "      <th>153</th>\n",
              "      <td>2</td>\n",
              "      <td>53</td>\n",
              "      <td>2</td>\n",
              "      <td>1.0</td>\n",
              "      <td>2</td>\n",
              "      <td>1.0</td>\n",
              "      <td>2.0</td>\n",
              "      <td>2.0</td>\n",
              "      <td>2.0</td>\n",
              "      <td>2.0</td>\n",
              "      <td>1.0</td>\n",
              "      <td>1.0</td>\n",
              "      <td>2.0</td>\n",
              "      <td>1.0</td>\n",
              "      <td>1.5</td>\n",
              "      <td>81.0</td>\n",
              "      <td>19.0</td>\n",
              "      <td>4.1</td>\n",
              "      <td>48.0</td>\n",
              "      <td>2</td>\n",
              "    </tr>\n",
              "    <tr>\n",
              "      <th>154</th>\n",
              "      <td>1</td>\n",
              "      <td>43</td>\n",
              "      <td>1</td>\n",
              "      <td>2.0</td>\n",
              "      <td>2</td>\n",
              "      <td>1.0</td>\n",
              "      <td>2.0</td>\n",
              "      <td>2.0</td>\n",
              "      <td>2.0</td>\n",
              "      <td>2.0</td>\n",
              "      <td>1.0</td>\n",
              "      <td>1.0</td>\n",
              "      <td>1.0</td>\n",
              "      <td>2.0</td>\n",
              "      <td>1.2</td>\n",
              "      <td>100.0</td>\n",
              "      <td>19.0</td>\n",
              "      <td>3.1</td>\n",
              "      <td>42.0</td>\n",
              "      <td>2</td>\n",
              "    </tr>\n",
              "  </tbody>\n",
              "</table>\n",
              "<p>155 rows × 20 columns</p>\n",
              "</div>\n",
              "      <button class=\"colab-df-convert\" onclick=\"convertToInteractive('df-55e62df2-c29d-41fb-a466-ce2e514e80cd')\"\n",
              "              title=\"Convert this dataframe to an interactive table.\"\n",
              "              style=\"display:none;\">\n",
              "\n",
              "  <svg xmlns=\"http://www.w3.org/2000/svg\" height=\"24px\"viewBox=\"0 0 24 24\"\n",
              "       width=\"24px\">\n",
              "    <path d=\"M0 0h24v24H0V0z\" fill=\"none\"/>\n",
              "    <path d=\"M18.56 5.44l.94 2.06.94-2.06 2.06-.94-2.06-.94-.94-2.06-.94 2.06-2.06.94zm-11 1L8.5 8.5l.94-2.06 2.06-.94-2.06-.94L8.5 2.5l-.94 2.06-2.06.94zm10 10l.94 2.06.94-2.06 2.06-.94-2.06-.94-.94-2.06-.94 2.06-2.06.94z\"/><path d=\"M17.41 7.96l-1.37-1.37c-.4-.4-.92-.59-1.43-.59-.52 0-1.04.2-1.43.59L10.3 9.45l-7.72 7.72c-.78.78-.78 2.05 0 2.83L4 21.41c.39.39.9.59 1.41.59.51 0 1.02-.2 1.41-.59l7.78-7.78 2.81-2.81c.8-.78.8-2.07 0-2.86zM5.41 20L4 18.59l7.72-7.72 1.47 1.35L5.41 20z\"/>\n",
              "  </svg>\n",
              "      </button>\n",
              "\n",
              "\n",
              "\n",
              "    <div id=\"df-00274eba-551c-475b-aad0-433ea93d50c9\">\n",
              "      <button class=\"colab-df-quickchart\" onclick=\"quickchart('df-00274eba-551c-475b-aad0-433ea93d50c9')\"\n",
              "              title=\"Suggest charts.\"\n",
              "              style=\"display:none;\">\n",
              "\n",
              "<svg xmlns=\"http://www.w3.org/2000/svg\" height=\"24px\"viewBox=\"0 0 24 24\"\n",
              "     width=\"24px\">\n",
              "    <g>\n",
              "        <path d=\"M19 3H5c-1.1 0-2 .9-2 2v14c0 1.1.9 2 2 2h14c1.1 0 2-.9 2-2V5c0-1.1-.9-2-2-2zM9 17H7v-7h2v7zm4 0h-2V7h2v10zm4 0h-2v-4h2v4z\"/>\n",
              "    </g>\n",
              "</svg>\n",
              "      </button>\n",
              "    </div>\n",
              "\n",
              "<style>\n",
              "  .colab-df-quickchart {\n",
              "    background-color: #E8F0FE;\n",
              "    border: none;\n",
              "    border-radius: 50%;\n",
              "    cursor: pointer;\n",
              "    display: none;\n",
              "    fill: #1967D2;\n",
              "    height: 32px;\n",
              "    padding: 0 0 0 0;\n",
              "    width: 32px;\n",
              "  }\n",
              "\n",
              "  .colab-df-quickchart:hover {\n",
              "    background-color: #E2EBFA;\n",
              "    box-shadow: 0px 1px 2px rgba(60, 64, 67, 0.3), 0px 1px 3px 1px rgba(60, 64, 67, 0.15);\n",
              "    fill: #174EA6;\n",
              "  }\n",
              "\n",
              "  [theme=dark] .colab-df-quickchart {\n",
              "    background-color: #3B4455;\n",
              "    fill: #D2E3FC;\n",
              "  }\n",
              "\n",
              "  [theme=dark] .colab-df-quickchart:hover {\n",
              "    background-color: #434B5C;\n",
              "    box-shadow: 0px 1px 3px 1px rgba(0, 0, 0, 0.15);\n",
              "    filter: drop-shadow(0px 1px 2px rgba(0, 0, 0, 0.3));\n",
              "    fill: #FFFFFF;\n",
              "  }\n",
              "</style>\n",
              "\n",
              "    <script>\n",
              "      async function quickchart(key) {\n",
              "        const containerElement = document.querySelector('#' + key);\n",
              "        const charts = await google.colab.kernel.invokeFunction(\n",
              "            'suggestCharts', [key], {});\n",
              "      }\n",
              "    </script>\n",
              "\n",
              "      <script>\n",
              "\n",
              "function displayQuickchartButton(domScope) {\n",
              "  let quickchartButtonEl =\n",
              "    domScope.querySelector('#df-00274eba-551c-475b-aad0-433ea93d50c9 button.colab-df-quickchart');\n",
              "  quickchartButtonEl.style.display =\n",
              "    google.colab.kernel.accessAllowed ? 'block' : 'none';\n",
              "}\n",
              "\n",
              "        displayQuickchartButton(document);\n",
              "      </script>\n",
              "      <style>\n",
              "    .colab-df-container {\n",
              "      display:flex;\n",
              "      flex-wrap:wrap;\n",
              "      gap: 12px;\n",
              "    }\n",
              "\n",
              "    .colab-df-convert {\n",
              "      background-color: #E8F0FE;\n",
              "      border: none;\n",
              "      border-radius: 50%;\n",
              "      cursor: pointer;\n",
              "      display: none;\n",
              "      fill: #1967D2;\n",
              "      height: 32px;\n",
              "      padding: 0 0 0 0;\n",
              "      width: 32px;\n",
              "    }\n",
              "\n",
              "    .colab-df-convert:hover {\n",
              "      background-color: #E2EBFA;\n",
              "      box-shadow: 0px 1px 2px rgba(60, 64, 67, 0.3), 0px 1px 3px 1px rgba(60, 64, 67, 0.15);\n",
              "      fill: #174EA6;\n",
              "    }\n",
              "\n",
              "    [theme=dark] .colab-df-convert {\n",
              "      background-color: #3B4455;\n",
              "      fill: #D2E3FC;\n",
              "    }\n",
              "\n",
              "    [theme=dark] .colab-df-convert:hover {\n",
              "      background-color: #434B5C;\n",
              "      box-shadow: 0px 1px 3px 1px rgba(0, 0, 0, 0.15);\n",
              "      filter: drop-shadow(0px 1px 2px rgba(0, 0, 0, 0.3));\n",
              "      fill: #FFFFFF;\n",
              "    }\n",
              "  </style>\n",
              "\n",
              "      <script>\n",
              "        const buttonEl =\n",
              "          document.querySelector('#df-55e62df2-c29d-41fb-a466-ce2e514e80cd button.colab-df-convert');\n",
              "        buttonEl.style.display =\n",
              "          google.colab.kernel.accessAllowed ? 'block' : 'none';\n",
              "\n",
              "        async function convertToInteractive(key) {\n",
              "          const element = document.querySelector('#df-55e62df2-c29d-41fb-a466-ce2e514e80cd');\n",
              "          const dataTable =\n",
              "            await google.colab.kernel.invokeFunction('convertToInteractive',\n",
              "                                                     [key], {});\n",
              "          if (!dataTable) return;\n",
              "\n",
              "          const docLinkHtml = 'Like what you see? Visit the ' +\n",
              "            '<a target=\"_blank\" href=https://colab.research.google.com/notebooks/data_table.ipynb>data table notebook</a>'\n",
              "            + ' to learn more about interactive tables.';\n",
              "          element.innerHTML = '';\n",
              "          dataTable['output_type'] = 'display_data';\n",
              "          await google.colab.output.renderOutput(dataTable, element);\n",
              "          const docLink = document.createElement('div');\n",
              "          docLink.innerHTML = docLinkHtml;\n",
              "          element.appendChild(docLink);\n",
              "        }\n",
              "      </script>\n",
              "    </div>\n",
              "  </div>\n"
            ]
          },
          "metadata": {},
          "execution_count": 6
        }
      ],
      "source": [
        "df"
      ]
    },
    {
      "cell_type": "code",
      "execution_count": null,
      "metadata": {
        "colab": {
          "base_uri": "https://localhost:8080/",
          "height": 561
        },
        "id": "O1nwpKb9oYyy",
        "outputId": "813eabde-4244-4ab6-c32e-f2981ae4e264"
      },
      "outputs": [
        {
          "output_type": "execute_result",
          "data": {
            "text/plain": [
              "<Axes: >"
            ]
          },
          "metadata": {},
          "execution_count": 7
        },
        {
          "output_type": "display_data",
          "data": {
            "text/plain": [
              "<Figure size 640x480 with 1 Axes>"
            ],
            "image/png": "[encoded data removed]"
          },
          "metadata": {}
        }
      ],
      "source": [
        "sns.heatmap(df.isnull(),cbar=False,yticklabels=False,cmap = 'viridis')"
      ]
    },
    {
      "cell_type": "code",
      "execution_count": null,
      "metadata": {
        "colab": {
          "base_uri": "https://localhost:8080/",
          "height": 794
        },
        "id": "R01YerPjWYjl",
        "outputId": "05cedb4f-c2f6-4627-b585-0f7f08ef6108"
      },
      "outputs": [
        {
          "output_type": "error",
          "ename": "TypeError",
          "evalue": "ignored",
          "traceback": [
            "\u001b[0;31m---------------------------------------------------------------------------\u001b[0m",
            "\u001b[0;31mTypeError\u001b[0m                                 Traceback (most recent call last)",
            "\u001b[0;32m<ipython-input-9-b1e49ee8dda2>\u001b[0m in \u001b[0;36m<cell line: 6>\u001b[0;34m()\u001b[0m\n\u001b[1;32m      4\u001b[0m \u001b[0mxlabels\u001b[0m\u001b[0;34m=\u001b[0m\u001b[0;34m[\u001b[0m\u001b[0;34m'Dead'\u001b[0m\u001b[0;34m,\u001b[0m\u001b[0;34m'Alive'\u001b[0m\u001b[0;34m]\u001b[0m\u001b[0;34m\u001b[0m\u001b[0;34m\u001b[0m\u001b[0m\n\u001b[1;32m      5\u001b[0m \u001b[0mtarget_count\u001b[0m\u001b[0;34m=\u001b[0m\u001b[0mdf\u001b[0m\u001b[0;34m.\u001b[0m\u001b[0mClass\u001b[0m\u001b[0;34m.\u001b[0m\u001b[0mvalue_counts\u001b[0m\u001b[0;34m(\u001b[0m\u001b[0;34m)\u001b[0m\u001b[0;34m\u001b[0m\u001b[0;34m\u001b[0m\u001b[0m\n\u001b[0;32m----> 6\u001b[0;31m \u001b[0mplt\u001b[0m\u001b[0;34m.\u001b[0m\u001b[0mannotate\u001b[0m\u001b[0;34m(\u001b[0m\u001b[0ms\u001b[0m\u001b[0;34m=\u001b[0m\u001b[0mtarget_count\u001b[0m\u001b[0;34m[\u001b[0m\u001b[0;36m1\u001b[0m\u001b[0;34m]\u001b[0m\u001b[0;34m,\u001b[0m \u001b[0mxy\u001b[0m\u001b[0;34m=\u001b[0m\u001b[0;34m(\u001b[0m\u001b[0;34m-\u001b[0m\u001b[0;36m0.04\u001b[0m\u001b[0;34m,\u001b[0m\u001b[0;36m10\u001b[0m\u001b[0;34m+\u001b[0m\u001b[0mtarget_count\u001b[0m\u001b[0;34m[\u001b[0m\u001b[0;36m1\u001b[0m\u001b[0;34m]\u001b[0m\u001b[0;34m)\u001b[0m\u001b[0;34m,\u001b[0m \u001b[0msize\u001b[0m\u001b[0;34m=\u001b[0m\u001b[0;36m14\u001b[0m\u001b[0;34m)\u001b[0m\u001b[0;34m\u001b[0m\u001b[0;34m\u001b[0m\u001b[0m\n\u001b[0m\u001b[1;32m      7\u001b[0m \u001b[0mplt\u001b[0m\u001b[0;34m.\u001b[0m\u001b[0mannotate\u001b[0m\u001b[0;34m(\u001b[0m\u001b[0ms\u001b[0m\u001b[0;34m=\u001b[0m\u001b[0mtarget_count\u001b[0m\u001b[0;34m[\u001b[0m\u001b[0;36m2\u001b[0m\u001b[0;34m]\u001b[0m\u001b[0;34m,\u001b[0m \u001b[0mxy\u001b[0m\u001b[0;34m=\u001b[0m\u001b[0;34m(\u001b[0m\u001b[0;36m0.96\u001b[0m\u001b[0;34m,\u001b[0m\u001b[0;36m10\u001b[0m\u001b[0;34m+\u001b[0m\u001b[0mtarget_count\u001b[0m\u001b[0;34m[\u001b[0m\u001b[0;36m2\u001b[0m\u001b[0;34m]\u001b[0m\u001b[0;34m)\u001b[0m\u001b[0;34m,\u001b[0m \u001b[0msize\u001b[0m\u001b[0;34m=\u001b[0m\u001b[0;36m14\u001b[0m\u001b[0;34m)\u001b[0m\u001b[0;34m\u001b[0m\u001b[0;34m\u001b[0m\u001b[0m\n\u001b[1;32m      8\u001b[0m \u001b[0mplt\u001b[0m\u001b[0;34m.\u001b[0m\u001b[0mylim\u001b[0m\u001b[0;34m(\u001b[0m\u001b[0;36m0\u001b[0m\u001b[0;34m,\u001b[0m\u001b[0;36m150\u001b[0m\u001b[0;34m)\u001b[0m\u001b[0;34m\u001b[0m\u001b[0;34m\u001b[0m\u001b[0m\n",
            "\u001b[0;31mTypeError\u001b[0m: annotate() missing 1 required positional argument: 'text'"
          ]
        },
        {
          "output_type": "display_data",
          "data": {
            "text/plain": [
              "<Figure size 800x600 with 1 Axes>"
            ],
            "image/png": "[encoded data removed]"
          },
          "metadata": {}
        }
      ],
      "source": [
        "plt.figure(figsize=(8,6))\n",
        "plt.title('Distribution of Target', size=18)\n",
        "sns.countplot(x=df['Class'])\n",
        "xlabels=['Dead','Alive']\n",
        "target_count=df.Class.value_counts()\n",
        "plt.annotate(s=target_count[1], xy=(-0.04,10+target_count[1]), size=14)\n",
        "plt.annotate(s=target_count[2], xy=(0.96,10+target_count[2]), size=14)\n",
        "plt.ylim(0,150)\n",
        "plt.xticks([0,1],xlabels)\n",
        "plt.show()"
      ]
    },
    {
      "cell_type": "code",
      "execution_count": null,
      "metadata": {
        "id": "XRn_-OUBTEok"
      },
      "outputs": [],
      "source": [
        "\n",
        "plt.pie(df['Class'].value_counts(),labels=[\"Alive\",\"Dead\"],autopct='%1.1f%%')"
      ]
    },
    {
      "cell_type": "code",
      "execution_count": null,
      "metadata": {
        "id": "lWpz3t6GaNck"
      },
      "outputs": [],
      "source": [
        "plt.pie(df['SEX'].value_counts(),labels=[\"Male\",\"Female\"],autopct='%1.1f%%')"
      ]
    },
    {
      "cell_type": "code",
      "execution_count": null,
      "metadata": {
        "id": "_3FDpqD-Slir"
      },
      "outputs": [],
      "source": [
        "df['Class'].value_counts()"
      ]
    },
    {
      "cell_type": "code",
      "execution_count": null,
      "metadata": {
        "id": "4tWuZyXVt_uz"
      },
      "outputs": [],
      "source": [
        "#Ratio of null values\n",
        "df.isnull().sum()/df.shape[0]*100"
      ]
    },
    {
      "cell_type": "code",
      "execution_count": null,
      "metadata": {
        "id": "AFR7VwIJXKhp"
      },
      "outputs": [],
      "source": [
        "df.drop(\"PROTIME\", axis = 1, inplace=True)\n",
        "df[\"VARICES\"]=df[\"VARICES\"].fillna(st.mode(df[\"VARICES\"]))\n",
        "df[\"ASCITES\"]=df[\"ASCITES\"].fillna(st.mode(df[\"ASCITES\"]))\n",
        "df[\"SPIDERS\"]=df[\"SPIDERS\"].fillna(st.mode(df[\"SPIDERS\"]))\n",
        "df[\"SPLEEN_PALPABLE\"]=df[\"SPLEEN_PALPABLE\"].fillna(st.mode(df[\"SPLEEN_PALPABLE\"]))\n",
        "df[\"LIVER_FIRM\"]=df[\"LIVER_FIRM\"].fillna(st.mode(df[\"LIVER_FIRM\"]))\n",
        "df[\"LIVER_BIG\"]=df[\"LIVER_BIG\"].fillna(st.mode(df[\"LIVER_BIG\"]))\n",
        "df[\"ANOREXIA\"]=df[\"ANOREXIA\"].fillna(st.mode(df[\"ANOREXIA\"]))\n",
        "df[\"MALAISE\"]=df[\"MALAISE\"].fillna(st.mode(df[\"MALAISE\"]))\n",
        "df[\"FATIGUE\"]=df[\"FATIGUE\"].fillna(st.mode(df[\"FATIGUE\"]))\n",
        "df[\"ANTIVIRALS\"]=df[\"ANTIVIRALS\"].fillna(st.mode(df[\"ANTIVIRALS\"]))\n",
        "df[\"STEROID\"]=df[\"STEROID\"].fillna(st.mode(df[\"STEROID\"]))\n",
        "#Using mean for these ones\n",
        "df[\"BILIRUBIN\"]=df[\"BILIRUBIN\"].fillna(round(df[\"BILIRUBIN\"].mean(),2))\n",
        "df[\"ALK_PHOSPHATE\"]=df[\"ALK_PHOSPHATE\"].fillna(round(df[\"ALK_PHOSPHATE\"].mean(),2))\n",
        "df[\"SGOT\"]=df[\"SGOT\"].fillna(round(df[\"SGOT\"].mean(),2))\n",
        "df[\"ALBUMIN\"]=df[\"ALBUMIN\"].fillna(round(df[\"ALBUMIN\"].mean(),2))"
      ]
    },
    {
      "cell_type": "code",
      "execution_count": null,
      "metadata": {
        "id": "xRlo_B3iGO7x"
      },
      "outputs": [],
      "source": [
        "plt.figure(figsize=(20,10))\n",
        "sns.heatmap(df.corr(),cmap='hot',annot=True)"
      ]
    },
    {
      "cell_type": "code",
      "execution_count": null,
      "metadata": {
        "id": "OSHgJdEvuHUl"
      },
      "outputs": [],
      "source": [
        "df['AGE_CAT'] = np.where(df.AGE >= 40, 2, 1)\n"
      ]
    },
    {
      "cell_type": "code",
      "execution_count": null,
      "metadata": {
        "id": "AxBTHCMuj8mW"
      },
      "outputs": [],
      "source": [
        "age = pd.DataFrame({'Class': df['Class'],\n",
        "                   'AGE_CAT': df['AGE_CAT'],\n",
        "                    'SEX':df['SEX']\n",
        "                  })\n"
      ]
    },
    {
      "cell_type": "code",
      "execution_count": null,
      "metadata": {
        "id": "UWHoFOuQuIN8"
      },
      "outputs": [],
      "source": [
        "sns.heatmap(age.corr(),cmap='hot',annot=True)\n",
        "plt.show()"
      ]
    },
    {
      "cell_type": "code",
      "execution_count": null,
      "metadata": {
        "id": "-xBbvMG5Z1_p"
      },
      "outputs": [],
      "source": [
        "plt.pie(age['AGE_CAT'].value_counts(),labels=[\"Old\",\"Young\"],autopct='%1.1f%%')"
      ]
    },
    {
      "cell_type": "code",
      "execution_count": null,
      "metadata": {
        "id": "pL9ezHFtlD_I"
      },
      "outputs": [],
      "source": [
        "sym=pd.DataFrame({'Class': df['Class'],\n",
        "                  'MALAISE':df['MALAISE'],\n",
        "                  'FATIGUE':df['FATIGUE'],\n",
        "                  'ANOREXIA':df['ANOREXIA']\n",
        "                  })\n"
      ]
    },
    {
      "cell_type": "code",
      "execution_count": null,
      "metadata": {
        "id": "c0fQMhZslPJb"
      },
      "outputs": [],
      "source": [
        "sns.heatmap(sym.corr(),cmap='hot',annot=True)\n",
        "plt.show()"
      ]
    },
    {
      "cell_type": "code",
      "execution_count": null,
      "metadata": {
        "id": "cOB_u2qPpffp"
      },
      "outputs": [],
      "source": [
        "meds=pd.DataFrame({'Class': df['Class'],\n",
        "                  'STEROID':df['STEROID'],\n",
        "                  'ANTIVIRALS':df['ANTIVIRALS']\n",
        "                  })\n"
      ]
    },
    {
      "cell_type": "code",
      "execution_count": null,
      "metadata": {
        "id": "ZLS04sIopg4h"
      },
      "outputs": [],
      "source": [
        "sns.heatmap(meds.corr(),cmap='hot',annot=True)\n",
        "plt.show()"
      ]
    },
    {
      "cell_type": "code",
      "execution_count": null,
      "metadata": {
        "id": "D-gc2kd1sthJ"
      },
      "outputs": [],
      "source": [
        "phys=pd.DataFrame({'Class': df['Class'],\n",
        "                  'VARICES':df['VARICES'],\n",
        "                  'SPIDERS':df['SPIDERS'],\n",
        "                  'SPLEEN_PALPABLE':df['SPLEEN_PALPABLE'],\n",
        "                  'LIVER_FIRM':df['LIVER_FIRM'],\n",
        "                  'LIVER_BIG':df['LIVER_BIG'],\n",
        "                  'ASCITES':df['ASCITES']\n",
        "                  })\n"
      ]
    },
    {
      "cell_type": "code",
      "execution_count": null,
      "metadata": {
        "id": "0xezXseasuv1"
      },
      "outputs": [],
      "source": [
        "sns.heatmap(phys.corr(),cmap='hot',annot=True)\n",
        "plt.show()"
      ]
    },
    {
      "cell_type": "code",
      "execution_count": null,
      "metadata": {
        "id": "ttTG-JpAulgm"
      },
      "outputs": [],
      "source": [
        "report=pd.DataFrame({'Class': df['Class'],\n",
        "                  'BILIRUBIN':df['BILIRUBIN'],\n",
        "                  'ALK_PHOSPHATE':df['ALK_PHOSPHATE'],\n",
        "                  'SGOT':df['SGOT'],\n",
        "                  'ALBUMIN':df['ALBUMIN']\n",
        "                  })\n"
      ]
    },
    {
      "cell_type": "code",
      "execution_count": null,
      "metadata": {
        "id": "bXDIhkJOumyT"
      },
      "outputs": [],
      "source": [
        "sns.heatmap(report.corr(),cmap='hot',annot=True)\n",
        "plt.show()"
      ]
    },
    {
      "cell_type": "code",
      "execution_count": null,
      "metadata": {
        "id": "MLVXCK0VxLzj"
      },
      "outputs": [],
      "source": [
        "df.isnull().sum()/df.shape[0] *100"
      ]
    },
    {
      "cell_type": "code",
      "execution_count": null,
      "metadata": {
        "id": "v1Qon9BidY0K"
      },
      "outputs": [],
      "source": [
        "df.describe()"
      ]
    },
    {
      "cell_type": "code",
      "execution_count": null,
      "metadata": {
        "id": "L03ErXOg3wkC"
      },
      "outputs": [],
      "source": [
        "df['Class'].value_counts()"
      ]
    },
    {
      "cell_type": "code",
      "execution_count": null,
      "metadata": {
        "id": "o74VopPWlsaD"
      },
      "outputs": [],
      "source": [
        "X = df.iloc[:,1:19]\n",
        "y = df.iloc[:,0]"
      ]
    },
    {
      "cell_type": "code",
      "execution_count": null,
      "metadata": {
        "id": "LIuDAc7-mj_B"
      },
      "outputs": [],
      "source": [
        "X.head()"
      ]
    },
    {
      "cell_type": "code",
      "execution_count": null,
      "metadata": {
        "id": "XfqJCFLjnt-b"
      },
      "outputs": [],
      "source": [
        "y.head()"
      ]
    },
    {
      "cell_type": "code",
      "execution_count": null,
      "metadata": {
        "id": "emYyOhB2n-rh"
      },
      "outputs": [],
      "source": [
        "# Splitting the dataset into the Training set and Test set\n",
        "from sklearn.model_selection import train_test_split\n",
        "X_train, X_test, y_train, y_test = train_test_split(X, y, test_size = 0.3, random_state = 0)\n"
      ]
    },
    {
      "cell_type": "code",
      "execution_count": null,
      "metadata": {
        "id": "tGRwUHM6bi9s"
      },
      "outputs": [],
      "source": [
        "df_unbalanced = pd.Series(y_train).value_counts().plot.bar()"
      ]
    },
    {
      "cell_type": "code",
      "execution_count": null,
      "metadata": {
        "id": "cwqGErW6ZRXk"
      },
      "outputs": [],
      "source": [
        "from imblearn.over_sampling import SMOTE\n",
        "sm = SMOTE(random_state = 33)\n",
        "X_train_new, y_train_new = sm.fit_resample(X_train, y_train.ravel())\n",
        "df_balanced = pd.Series(y_train_new).value_counts().plot.bar()"
      ]
    },
    {
      "cell_type": "code",
      "execution_count": null,
      "metadata": {
        "id": "MVa6_1aXpDw7"
      },
      "outputs": [],
      "source": [
        "# Fitting Logistic Regression to the Training set\n",
        "from sklearn.linear_model import LogisticRegression\n",
        "logreg = LogisticRegression(random_state = 45,max_iter=1000)\n",
        "logreg.fit(X_train, y_train)"
      ]
    },
    {
      "cell_type": "code",
      "execution_count": null,
      "metadata": {
        "id": "3rnL3_3MpMVW"
      },
      "outputs": [],
      "source": [
        "# Predicting the Test set results\n",
        "y_pred = logreg.predict(X_test)"
      ]
    },
    {
      "cell_type": "code",
      "execution_count": null,
      "metadata": {
        "id": "ABEgFZXLpObX"
      },
      "outputs": [],
      "source": [
        "# Making the Confusion Matrix\n",
        "from sklearn.metrics import confusion_matrix\n",
        "cm = confusion_matrix(y_test, y_pred)\n",
        "cm"
      ]
    },
    {
      "cell_type": "code",
      "execution_count": null,
      "metadata": {
        "id": "pyo1JXyupeKO"
      },
      "outputs": [],
      "source": [
        "from sklearn.metrics import accuracy_score\n",
        "accuracy_score(y_test, y_pred)"
      ]
    },
    {
      "cell_type": "code",
      "execution_count": null,
      "metadata": {
        "id": "jvE3kn7vzCZF"
      },
      "outputs": [],
      "source": [
        "from sklearn.metrics import accuracy_score\n",
        "accuracy_score(y_test, y_pred)"
      ]
    },
    {
      "cell_type": "code",
      "execution_count": null,
      "metadata": {
        "id": "d-Ny2mubfvpB"
      },
      "outputs": [],
      "source": [
        "scoreDF = pd.DataFrame(columns=['accuracy','f1','recall',\"roc_auc\",\"type\",\"balance\"])"
      ]
    },
    {
      "cell_type": "code",
      "execution_count": null,
      "metadata": {
        "id": "WXzcobTfdv8R"
      },
      "outputs": [],
      "source": [
        "from sklearn.model_selection import cross_val_score,cross_validate\n",
        "score = cross_validate(logreg, X_train, y_train, cv=10,scoring=['accuracy','f1','recall',\"roc_auc\"])\n",
        "data =[score[\"test_accuracy\"].mean(), score[\"test_f1\"].mean(), score[\"test_recall\"].mean(),\n",
        "       score[\"test_roc_auc\"].mean(),\"Logistic Regression\",\"No\"]\n",
        "scoreDF = scoreDF.append(pd.DataFrame([data], columns=scoreDF.columns), ignore_index=True, );\n",
        "print(cross_val_score(logreg, X_train, y_train, cv=10, scoring='accuracy').mean())\n",
        "accuracy_score(y_test, y_pred)"
      ]
    },
    {
      "cell_type": "code",
      "execution_count": null,
      "metadata": {
        "id": "kG2b-9adey9D"
      },
      "outputs": [],
      "source": [
        "score = cross_validate(logreg, X_train_new, y_train_new, cv=10,scoring=['accuracy','f1','recall',\"roc_auc\"])\n",
        "data =[score[\"test_accuracy\"].mean(), score[\"test_f1\"].mean(), score[\"test_recall\"].mean(),\n",
        "       score[\"test_roc_auc\"].mean(),\"Logistic Regression\",\"Yes\"]\n",
        "scoreDF = scoreDF.append(pd.DataFrame([data], columns=scoreDF.columns), ignore_index=True, );\n",
        "print(cross_val_score(logreg, X_train_new, y_train_new, cv=10, scoring='accuracy').mean())"
      ]
    },
    {
      "cell_type": "code",
      "execution_count": null,
      "metadata": {
        "id": "Kj-ZvpPRge3d"
      },
      "outputs": [],
      "source": [
        "from sklearn.neighbors import KNeighborsClassifier\n",
        "knn = KNeighborsClassifier(n_neighbors=1)\n",
        "knn.fit(X_train,y_train)\n",
        "knnpred = knn.predict(X_test)\n",
        "score = cross_validate(knn, X_train, y_train, cv=10,scoring=['accuracy','f1','recall',\"roc_auc\"])\n",
        "data =[score[\"test_accuracy\"].mean(), score[\"test_f1\"].mean(), score[\"test_recall\"].mean(),\n",
        "       score[\"test_roc_auc\"].mean(),\"KNN\",\"No\"]\n",
        "scoreDF = scoreDF.append(pd.DataFrame([data], columns=scoreDF.columns), ignore_index=True, )\n",
        "print(cross_val_score(knn, X_train, y_train, cv=10, scoring='accuracy').mean())"
      ]
    },
    {
      "cell_type": "code",
      "execution_count": null,
      "metadata": {
        "id": "BOiF4M-fg49I"
      },
      "outputs": [],
      "source": [
        "knn.fit(X_train_new,y_train_new)\n",
        "knnpred = knn.predict(X_test)\n",
        "score = cross_validate(knn, X_train_new, y_train_new, cv=10, scoring=['accuracy', 'f1','recall',\"roc_auc\"])\n",
        "data = [score[\"test_accuracy\"].mean(), score[\"test_f1\"].mean(), score[\"test_recall\"].mean(),\n",
        "       score[\"test_roc_auc\"].mean(),\"KNN\",\"Yes\"]\n",
        "scoreDF = scoreDF.append(pd.DataFrame([data], columns = scoreDF.columns), ignore_index=True, )\n",
        "print(cross_val_score(knn, X_train_new, y_train_new, cv=10, scoring='accuracy').mean())"
      ]
    },
    {
      "cell_type": "code",
      "execution_count": null,
      "metadata": {
        "id": "OYpXpwe4ZnDu"
      },
      "outputs": [],
      "source": [
        "from sklearn.svm import SVC\n",
        "svc = SVC(kernel='linear')\n",
        "svc.fit(X_train, y_train)\n",
        "svcpred = svc.predict(X_test)\n",
        "score = cross_validate(svc, X_train, y_train, cv=10, scoring=['accuracy', 'f1','recall',\"roc_auc\"])\n",
        "data = [score[\"test_accuracy\"].mean(), score[\"test_f1\"].mean(), score[\"test_recall\"].mean(),\n",
        "       score[\"test_roc_auc\"].mean(),\"SVC\",\"No\"]\n",
        "scoreDF = scoreDF.append(pd.DataFrame([data], columns = scoreDF.columns), ignore_index=True, )\n",
        "print(cross_val_score(svc, X_train, y_train, cv=10, scoring='accuracy').mean())"
      ]
    },
    {
      "cell_type": "code",
      "execution_count": null,
      "metadata": {
        "id": "7cHqc3y5Z62r"
      },
      "outputs": [],
      "source": [
        "svc.fit(X_train_new, y_train_new)\n",
        "svcpred = svc.predict(X_test)\n",
        "score = cross_validate(svc, X_train_new, y_train_new, cv=10, scoring=['accuracy', 'f1','recall',\"roc_auc\"])\n",
        "data = [score[\"test_accuracy\"].mean(), score[\"test_f1\"].mean(), score[\"test_recall\"].mean(),\n",
        "       score[\"test_roc_auc\"].mean(),\"SVC\",\"Yes\"]\n",
        "scoreDF = scoreDF.append(pd.DataFrame([data], columns = scoreDF.columns), ignore_index=True, )\n",
        "print(cross_val_score(svc, X_train_new, y_train_new, cv=10, scoring='accuracy').mean())"
      ]
    },
    {
      "cell_type": "code",
      "execution_count": null,
      "metadata": {
        "id": "Few7-pGpf_pa"
      },
      "outputs": [],
      "source": [
        "scoreDF"
      ]
    },
    {
      "cell_type": "code",
      "execution_count": null,
      "metadata": {
        "id": "BZFRXvdzXg5E"
      },
      "outputs": [],
      "source": [
        "sns.pairplot(df, x_vars=[\"Class\",\"AGE\",\"SEX\",\"STEROID\",\"ANTIVIRALS\",\"FATIGUE\",\"MALAISE\",\"ANOREXIA\",\"LIVER_BIG\",\"LIVER_FIRM\",\"SPLEEN_PALPABLE\",\"SPIDERS\",\"ASCITES\",\"VARICES\",\"BILIRUBIN\",\"ALK_PHOSPHATE\",\"SGOT\",\"ALBUMIN\"], y_vars=[\"Class\",\"AGE\",\"SEX\",\"STEROID\",\"ANTIVIRALS\",\"FATIGUE\",\"MALAISE\",\"ANOREXIA\",\"LIVER_BIG\",\"LIVER_FIRM\",\"SPLEEN_PALPABLE\",\"SPIDERS\",\"ASCITES\",\"VARICES\",\"BILIRUBIN\",\"ALK_PHOSPHATE\",\"SGOT\",\"ALBUMIN\"], size=7, aspect=0.7)"
      ]
    },
    {
      "cell_type": "code",
      "execution_count": null,
      "metadata": {
        "id": "gmeOerkmJaDc"
      },
      "outputs": [],
      "source": [
        "scoreDF2 = pd.DataFrame(columns=['accuracy','f1','recall',\"roc_auc\",\"type\",\"balance\"])"
      ]
    },
    {
      "cell_type": "code",
      "execution_count": null,
      "metadata": {
        "id": "pUO5ZNE6KFFl"
      },
      "outputs": [],
      "source": [
        "Class = age.iloc[:,0]\n",
        "age = age.iloc[:,1:]\n",
        "Class_train, Class_test, age_train, age_test = train_test_split(Class, age, test_size = 0.3, random_state = 0)"
      ]
    },
    {
      "cell_type": "code",
      "execution_count": null,
      "metadata": {
        "id": "PAV7GXejJgki"
      },
      "outputs": [],
      "source": [
        "svc.fit(X_train, y_train)\n",
        "svcpred = svc.predict(X_test)\n",
        "score = cross_validate(svc, X_train, y_train, cv=10, scoring=['accuracy', 'f1','recall',\"roc_auc\"])\n",
        "data = [score[\"test_accuracy\"].mean(), score[\"test_f1\"].mean(), score[\"test_recall\"].mean(),\n",
        "       score[\"test_roc_auc\"].mean(),\"SVC\",\"No\"]\n",
        "scoreDF = scoreDF.append(pd.DataFrame([data], columns = scoreDF.columns), ignore_index=True, )\n",
        "print(cross_val_score(svc, X_train, y_train, cv=10, scoring='accuracy').mean())"
      ]
    }
  ],
  "metadata": {
    "colab": {
      "provenance": [],
      "include_colab_link": true
    },
    "kernelspec": {
      "display_name": "Python 3",
      "name": "python3"
    },
    "language_info": {
      "name": "python"
    }
  },
  "nbformat": 4,
  "nbformat_minor": 0
}