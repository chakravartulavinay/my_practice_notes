{
  "cells": [
    {
      "cell_type": "markdown",
      "metadata": {
        "id": "view-in-github",
        "colab_type": "text"
      },
      "source": [
        "<a href=\"https://colab.research.google.com/github/chakravartulavinay/my_practice_notes/blob/main/vinaypractice.ipynb\" target=\"_parent\"><img src=\"https://colab.research.google.com/assets/colab-badge.svg\" alt=\"Open In Colab\"/></a>"
      ]
    },
    {
      "cell_type": "code",
      "execution_count": null,
      "metadata": {
        "colab": {
          "base_uri": "https://localhost:8080/"
        },
        "id": "BG3mkrk-LhUZ",
        "outputId": "298331b1-3a8b-4e59-c833-526f9ad9bdf2"
      },
      "outputs": [
        {
          "name": "stdout",
          "output_type": "stream",
          "text": [
            "<class 'int'>\n"
          ]
        }
      ],
      "source": [
        "x=-90\n",
        "print(type(x))"
      ]
    },
    {
      "cell_type": "code",
      "execution_count": null,
      "metadata": {
        "colab": {
          "base_uri": "https://localhost:8080/"
        },
        "id": "VkhruDUDLuwf",
        "outputId": "a0bad582-78c3-41b9-88f4-73b60307a3df"
      },
      "outputs": [
        {
          "name": "stdout",
          "output_type": "stream",
          "text": [
            "<class 'complex'>\n"
          ]
        }
      ],
      "source": [
        "v=7j\n",
        "print(type(v))"
      ]
    },
    {
      "cell_type": "code",
      "execution_count": null,
      "metadata": {
        "colab": {
          "base_uri": "https://localhost:8080/"
        },
        "id": "khtac9DQ5DAl",
        "outputId": "e5baedee-e817-4c5d-99a7-fa0ae70d88df"
      },
      "outputs": [
        {
          "name": "stdout",
          "output_type": "stream",
          "text": [
            "True\n"
          ]
        }
      ],
      "source": [
        "txt = \"The best things in life are free!\"\n",
        "print(\"free\" in txt)"
      ]
    },
    {
      "cell_type": "code",
      "execution_count": null,
      "metadata": {
        "colab": {
          "base_uri": "https://localhost:8080/",
          "height": 54
        },
        "id": "WCiWzJWMyYr_",
        "outputId": "9c117eb3-c98f-4fa3-ab1d-3dd53f62a80c"
      },
      "outputs": [
        {
          "name": "stdout",
          "output_type": "stream",
          "text": [
            "rl\n"
          ]
        },
        {
          "data": {
            "application/vnd.google.colaboratory.intrinsic+json": {
              "type": "string"
            },
            "text/plain": [
              "'HELLO,WORLD!'"
            ]
          },
          "execution_count": 5,
          "metadata": {},
          "output_type": "execute_result"
        }
      ],
      "source": [
        "v=\"hello,world!\"\n",
        "print(v[-4:-2])\n",
        "v.upper()"
      ]
    },
    {
      "cell_type": "code",
      "execution_count": null,
      "metadata": {
        "colab": {
          "base_uri": "https://localhost:8080/"
        },
        "id": "CrnmZgWWyxMF",
        "outputId": "425c8564-675d-4f39-c88d-45281eabb9a5"
      },
      "outputs": [
        {
          "name": "stdout",
          "output_type": "stream",
          "text": [
            "My name is John, I am 36\n"
          ]
        }
      ],
      "source": [
        "age = 36\n",
        "txt = \"My name is John, I am \" +str( age)\n",
        "print(txt)"
      ]
    },
    {
      "cell_type": "code",
      "execution_count": null,
      "metadata": {
        "colab": {
          "base_uri": "https://localhost:8080/"
        },
        "id": "3UrYK_DizQqB",
        "outputId": "dcc48424-f3fe-4e5d-b744-5df6073cc60c"
      },
      "outputs": [
        {
          "name": "stdout",
          "output_type": "stream",
          "text": [
            " v \n",
            " i \n",
            " n \n",
            " a \n",
            " y \n",
            "\n"
          ]
        }
      ],
      "source": [
        "print(\" v \\n i \\n n \\n a \\n y \\n\")"
      ]
    },
    {
      "cell_type": "code",
      "execution_count": null,
      "metadata": {
        "colab": {
          "base_uri": "https://localhost:8080/"
        },
        "id": "ibWrm9vRzkNh",
        "outputId": "66859dee-ae5c-454d-f6ea-813ed3a3815b"
      },
      "outputs": [
        {
          "name": "stdout",
          "output_type": "stream",
          "text": [
            " VINAY IS A GOOD BOY\n",
            " vinay is a good boy\n",
            "vinay\n",
            "1\n",
            " vinay is a gvvd bvy\n",
            "vinay is a good boy\n"
          ]
        }
      ],
      "source": [
        "v= ' vinay is a good boy'\n",
        "s='VINAY'\n",
        "print(v.upper())\n",
        "print(v.capitalize())\n",
        "print(s.lower())\n",
        "print(s.find('I'))\n",
        "print(v.replace('o','v'))\n",
        "print(v.strip())"
      ]
    },
    {
      "cell_type": "code",
      "execution_count": null,
      "metadata": {
        "colab": {
          "base_uri": "https://localhost:8080/"
        },
        "id": "RuKQRvTARWyo",
        "outputId": "e6ebfac7-a3a1-4399-9740-c5cd65cad206"
      },
      "outputs": [
        {
          "name": "stdout",
          "output_type": "stream",
          "text": [
            "vi\n"
          ]
        }
      ],
      "source": [
        "v= \"vinay\"\n",
        "print(v[:2])"
      ]
    },
    {
      "cell_type": "code",
      "execution_count": null,
      "metadata": {
        "colab": {
          "base_uri": "https://localhost:8080/"
        },
        "id": "Go0P3QkmSpte",
        "outputId": "7da7b4c5-b345-4dfa-ae2d-13d1c2bf8fdf"
      },
      "outputs": [
        {
          "name": "stdout",
          "output_type": "stream",
          "text": [
            "True\n",
            "True\n"
          ]
        }
      ],
      "source": [
        "print(bool('hello'))\n",
        "print(bool('9'))"
      ]
    },
    {
      "cell_type": "code",
      "execution_count": null,
      "metadata": {
        "colab": {
          "base_uri": "https://localhost:8080/"
        },
        "id": "3_tkOG6BTbRz",
        "outputId": "d203fb7d-b4df-477c-c94b-9e994a442427"
      },
      "outputs": [
        {
          "name": "stdout",
          "output_type": "stream",
          "text": [
            "v\n",
            "i\n",
            "n\n",
            "a\n",
            "y\n"
          ]
        }
      ],
      "source": [
        "print(\"v\\ni\\nn\\na\\ny\")"
      ]
    },
    {
      "cell_type": "code",
      "execution_count": null,
      "metadata": {
        "colab": {
          "base_uri": "https://localhost:8080/"
        },
        "id": "UnZIBq6zhpue",
        "outputId": "829f6e88-5bf1-4121-9224-e0b8546e606a"
      },
      "outputs": [
        {
          "data": {
            "text/plain": [
              "range(0, 5)"
            ]
          },
          "execution_count": 12,
          "metadata": {},
          "output_type": "execute_result"
        }
      ],
      "source": [
        "range(5)\n"
      ]
    },
    {
      "cell_type": "code",
      "execution_count": null,
      "metadata": {
        "colab": {
          "base_uri": "https://localhost:8080/"
        },
        "id": "RKANzETbmBqB",
        "outputId": "524f1828-9e2f-439c-b745-76d9d5f3cce5"
      },
      "outputs": [
        {
          "name": "stdout",
          "output_type": "stream",
          "text": [
            "vinay vinay vinay vinay \n"
          ]
        }
      ],
      "source": [
        "x='vinay '*4\n",
        "print(x)"
      ]
    },
    {
      "cell_type": "code",
      "execution_count": null,
      "metadata": {
        "colab": {
          "base_uri": "https://localhost:8080/"
        },
        "id": "HfLD0f8OpNp5",
        "outputId": "4ce41a08-161e-4c4b-a03f-fc6b981af378"
      },
      "outputs": [
        {
          "name": "stdout",
          "output_type": "stream",
          "text": [
            "vinay\n",
            "vijay\n"
          ]
        }
      ],
      "source": [
        "x=['vinay','vijay','harsha']\n",
        "for v in x:\n",
        "  print(v)\n",
        "  if v=='vijay':\n",
        "    break"
      ]
    },
    {
      "cell_type": "code",
      "execution_count": null,
      "metadata": {
        "id": "Z3o6hEF7sQyR"
      },
      "outputs": [],
      "source": [
        "v=['kALYANI','hema']\n",
        "for x in v:\n",
        "  if x=='hema':\n",
        "    break\n",
        "    print(x)"
      ]
    },
    {
      "cell_type": "code",
      "execution_count": null,
      "metadata": {
        "colab": {
          "base_uri": "https://localhost:8080/"
        },
        "id": "Pzcg1tquqR5q",
        "outputId": "8056482b-2fec-4fd3-b41e-a2e481384406"
      },
      "outputs": [
        {
          "name": "stdout",
          "output_type": "stream",
          "text": [
            "2x1=2\n",
            "2x2=4\n",
            "2x3=6\n",
            "2x4=8\n",
            "2x5=10\n",
            "2x6=12\n",
            "2x7=14\n",
            "2x8=16\n",
            "2x9=18\n",
            "2x10=20\n"
          ]
        }
      ],
      "source": [
        "for i in range(1,11):\n",
        "  print(f\"2x{i}={2*i}\")\n"
      ]
    },
    {
      "cell_type": "code",
      "execution_count": null,
      "metadata": {
        "colab": {
          "base_uri": "https://localhost:8080/"
        },
        "id": "wQX5_5YLQ_Xq",
        "outputId": "0caae87f-a928-4e63-e6d9-7bf92626e68e"
      },
      "outputs": [
        {
          "name": "stdout",
          "output_type": "stream",
          "text": [
            "2 x 1 = 2\n",
            "2 x 2 = 4\n",
            "2 x 3 = 6\n",
            "2 x 4 = 8\n",
            "2 x 5 = 10\n",
            "2 x 6 = 12\n",
            "2 x 7 = 14\n",
            "2 x 8 = 16\n",
            "2 x 9 = 18\n",
            "2 x 10 = 20\n",
            "\n",
            "3 x 1 = 3\n",
            "3 x 2 = 6\n",
            "3 x 3 = 9\n",
            "3 x 4 = 12\n",
            "3 x 5 = 15\n",
            "3 x 6 = 18\n",
            "3 x 7 = 21\n",
            "3 x 8 = 24\n",
            "3 x 9 = 27\n",
            "3 x 10 = 30\n",
            "\n",
            "4 x 1 = 4\n",
            "4 x 2 = 8\n",
            "4 x 3 = 12\n",
            "4 x 4 = 16\n",
            "4 x 5 = 20\n",
            "4 x 6 = 24\n",
            "4 x 7 = 28\n",
            "4 x 8 = 32\n",
            "4 x 9 = 36\n",
            "4 x 10 = 40\n",
            "\n"
          ]
        }
      ],
      "source": [
        "for j in range(2,5):\n",
        "  for i in range(1,11):\n",
        "    print(j,\"x\",i,\"=\",j*i)\n",
        "  print()\n",
        "\n"
      ]
    },
    {
      "cell_type": "code",
      "execution_count": null,
      "metadata": {
        "colab": {
          "base_uri": "https://localhost:8080/"
        },
        "id": "wN2753zarP1Z",
        "outputId": "ff701d39-89fa-472c-f76b-1d174e8986c2"
      },
      "outputs": [
        {
          "name": "stdout",
          "output_type": "stream",
          "text": [
            "2 x 1 = 2\n",
            "2 x 2 = 4\n",
            "2 x 3 = 6\n",
            "2 x 4 = 8\n",
            "2 x 5 = 10\n",
            "2 x 6 = 12\n",
            "2 x 7 = 14\n",
            "2 x 8 = 16\n",
            "2 x 9 = 18\n",
            "2 x 10 = 20\n"
          ]
        }
      ],
      "source": [
        "for i in range(1,11):\n",
        "  print('2 x',i,\"=\",2*i)\n"
      ]
    },
    {
      "cell_type": "code",
      "execution_count": null,
      "metadata": {
        "colab": {
          "base_uri": "https://localhost:8080/",
          "height": 133
        },
        "id": "Tx3EnrVds_sI",
        "outputId": "ed6aab8c-9435-4efc-ab6c-8ef6a9e40fb3"
      },
      "outputs": [
        {
          "ename": "SyntaxError",
          "evalue": "ignored",
          "output_type": "error",
          "traceback": [
            "\u001b[0;36m  File \u001b[0;32m\"<ipython-input-19-d7fd0a0249f9>\"\u001b[0;36m, line \u001b[0;32m1\u001b[0m\n\u001b[0;31m    def v(fruits)\u001b[0m\n\u001b[0m                 ^\u001b[0m\n\u001b[0;31mSyntaxError\u001b[0m\u001b[0;31m:\u001b[0m expected ':'\n"
          ]
        }
      ],
      "source": [
        "def v(fruits)\n",
        "for x in fruits:\n",
        "  print(x)\n",
        "  if x=='banana':\n",
        "    break\n",
        "    print(x)"
      ]
    },
    {
      "cell_type": "code",
      "execution_count": null,
      "metadata": {
        "id": "-rr6068NtOxm"
      },
      "outputs": [],
      "source": [
        "fruits = [\"apple\", \"banana\", \"cherry\"]\n",
        "for x in fruits:\n",
        "  if x == \"banana\":\n",
        "     break\n",
        "     print(x)\n",
        "\n"
      ]
    },
    {
      "cell_type": "code",
      "execution_count": null,
      "metadata": {
        "id": "yJqrAGjftdMG"
      },
      "outputs": [],
      "source": [
        "for i in range(6):\n",
        "  print(i)\n",
        "else:\n",
        "    print(\"finally finished\")"
      ]
    },
    {
      "cell_type": "code",
      "execution_count": null,
      "metadata": {
        "id": "iOoCXCzIusrC"
      },
      "outputs": [],
      "source": [
        "i=0\n",
        "while i<6:\n",
        "  print(i)\n",
        "  i+=1\n",
        "\n"
      ]
    },
    {
      "cell_type": "code",
      "execution_count": null,
      "metadata": {
        "id": "RV5ngchcvHzd"
      },
      "outputs": [],
      "source": [
        "i=0\n",
        "while i<6:\n",
        "  if i==5:\n",
        "    print(i)\n",
        "    break\n",
        "\n",
        "  i+=1\n"
      ]
    },
    {
      "cell_type": "code",
      "execution_count": null,
      "metadata": {
        "id": "HYaceuDEvcNn"
      },
      "outputs": [],
      "source": [
        "i=1\n",
        "while i<=6:\n",
        "  print(i)\n",
        "  i+=1\n",
        "else:\n",
        "  print(\"i is no longer less than 6\")"
      ]
    },
    {
      "cell_type": "code",
      "execution_count": null,
      "metadata": {
        "id": "QTY1g3FLKr-w"
      },
      "outputs": [],
      "source": [
        "x=0\n",
        "for v in range(1,10,2):\n",
        "  print(v)"
      ]
    },
    {
      "cell_type": "code",
      "execution_count": null,
      "metadata": {
        "id": "hAgcTOO8MtI6"
      },
      "outputs": [],
      "source": [
        "total = 0\n",
        "for num in range(1,6):\n",
        "  total+=num\n",
        "  print(total)#look at the print stuff in the below code its bcoz identation matters\n"
      ]
    },
    {
      "cell_type": "code",
      "execution_count": null,
      "metadata": {
        "id": "4FCXuvNsLGSI"
      },
      "outputs": [],
      "source": [
        "total = 0\n",
        "for num in range(1,6):\n",
        "  total+=num\n",
        "print(total)"
      ]
    },
    {
      "cell_type": "code",
      "execution_count": null,
      "metadata": {
        "id": "jxAL1q2rN2Ax"
      },
      "outputs": [],
      "source": [
        "name = \"john\"\n",
        "age=18\n",
        "print(\"name:\",name,\"-\",\"age:\",age)"
      ]
    },
    {
      "cell_type": "code",
      "execution_count": null,
      "metadata": {
        "id": "D9SykJO9QUPX"
      },
      "outputs": [],
      "source": [
        "name = input(\"enter your name\")\n",
        "print(\"hello\",name,\"I nice to meet you. \")"
      ]
    },
    {
      "cell_type": "code",
      "execution_count": null,
      "metadata": {
        "id": "i5iOFnLrQ-NU"
      },
      "outputs": [],
      "source": [
        "age=input(\" enter your age\")\n",
        "print(' in 10 years you will be ',int(age)+10,'years old')"
      ]
    },
    {
      "cell_type": "code",
      "execution_count": null,
      "metadata": {
        "id": "WeoBHJ0JRVhC"
      },
      "outputs": [],
      "source": [
        "radius=float(input(\" enter the radius \"))\n",
        "area = 3.14*radius**2\n",
        "print(\" the area of the circle \",area)"
      ]
    },
    {
      "cell_type": "code",
      "execution_count": null,
      "metadata": {
        "id": "cuO6VIMZUNLW"
      },
      "outputs": [],
      "source": [
        "for num in range(1,6):\n",
        "  print(num/10)"
      ]
    },
    {
      "cell_type": "code",
      "execution_count": null,
      "metadata": {
        "id": "MO9JDqLSYzWr"
      },
      "outputs": [],
      "source": [
        "fruits = ['apple','banana','cherry']\n",
        "for v in fruits:\n",
        " print(v,\"i want to eAT\")"
      ]
    },
    {
      "cell_type": "code",
      "execution_count": null,
      "metadata": {
        "id": "Fkj7GYdXZ9JD"
      },
      "outputs": [],
      "source": [
        "message = \"hello,world!\"\n",
        "for char in message:\n",
        "  print(char)"
      ]
    },
    {
      "cell_type": "code",
      "execution_count": null,
      "metadata": {
        "id": "YGxVDntCaXK8"
      },
      "outputs": [],
      "source": [
        "for v in range(0,10,2):\n",
        "  print(v)"
      ]
    },
    {
      "cell_type": "code",
      "execution_count": null,
      "metadata": {
        "id": "cprPadzBa0dB"
      },
      "outputs": [],
      "source": [
        "for i in range(3):\n",
        "  for j in range(2):\n",
        "    print(i,j)"
      ]
    },
    {
      "cell_type": "code",
      "execution_count": null,
      "metadata": {
        "id": "l2R7eHaagB5P"
      },
      "outputs": [],
      "source": [
        "v=range(1,11)\n",
        "sum=0\n",
        "for x in v:\n",
        "  sum+=x\n",
        "print(sum)"
      ]
    },
    {
      "cell_type": "code",
      "execution_count": null,
      "metadata": {
        "id": "XgSpOD37bD9w"
      },
      "outputs": [],
      "source": [
        "x=3.24555\n",
        "print(\"value of x\",format(x,\".2f\"))"
      ]
    },
    {
      "cell_type": "code",
      "execution_count": null,
      "metadata": {
        "id": "YLqFzYjPcegU"
      },
      "outputs": [],
      "source": [
        "v=2.23344123\n",
        "print(\"value of v\",format(v,\".2f\"))"
      ]
    },
    {
      "cell_type": "code",
      "execution_count": null,
      "metadata": {
        "id": "ihrxHkflctCF"
      },
      "outputs": [],
      "source": [
        "help(format)"
      ]
    },
    {
      "cell_type": "code",
      "execution_count": null,
      "metadata": {
        "id": "EzEy6TrBdAxV"
      },
      "outputs": [],
      "source": [
        "v=int(input(\"enter the number \"))\n",
        "for x in range(1,11):\n",
        "  if x==6 or x==7:\n",
        "    print(v,\"x\",x,\"=\",v*x)\n",
        "  continue\n",
        "else:\n",
        "    print(\"executing finished \")\n"
      ]
    },
    {
      "cell_type": "code",
      "execution_count": null,
      "metadata": {
        "id": "0GWlNRhQd3YU"
      },
      "outputs": [],
      "source": [
        "v=int(input(\"enter the value\"))\n",
        "i=0\n",
        "while i<=10:\n",
        "  i+=1\n",
        "  if i==6:\n",
        "    continue\n",
        "  print(v,\"x\",i,\"=\",v*i)"
      ]
    },
    {
      "cell_type": "code",
      "execution_count": null,
      "metadata": {
        "id": "-_hfFjBufzK7"
      },
      "outputs": [],
      "source": [
        "v=\"\"\n",
        "while v!=\"quit\":\n",
        "  v=input(\"enter the commanad\")\n",
        "  print(\"executing command \"+(v))\n",
        "else:\n",
        "  print(\"executing finished\")"
      ]
    },
    {
      "cell_type": "markdown",
      "metadata": {
        "id": "V6I-B48M45cR"
      },
      "source": []
    },
    {
      "cell_type": "code",
      "execution_count": null,
      "metadata": {
        "id": "QrF-rZaS71rv"
      },
      "outputs": [],
      "source": [
        "start = int(input(\"enter the number\"))\n",
        "ending=int(input(\" enter the 2nd number \"))\n",
        "v=int(input(\"enter the skip number\"))\n",
        "for i in range(start,ending+1):\n",
        "  for j in range(1,11):\n",
        "    if v==i:\n",
        "      continue\n",
        "    else:\n",
        "      print(i,\"x\",j,\"=\",i*j)\n",
        "  print()"
      ]
    },
    {
      "cell_type": "code",
      "execution_count": null,
      "metadata": {
        "id": "F4N90644ABEE"
      },
      "outputs": [],
      "source": [
        "help(print)"
      ]
    },
    {
      "cell_type": "code",
      "execution_count": null,
      "metadata": {
        "id": "8lRRgR9QE-a8"
      },
      "outputs": [],
      "source": [
        "v=int(input(range(1,3)))"
      ]
    },
    {
      "cell_type": "markdown",
      "metadata": {
        "id": "3RfpCAC_mzH1"
      },
      "source": [
        "#functions"
      ]
    },
    {
      "cell_type": "code",
      "execution_count": null,
      "metadata": {
        "id": "tYbPcVriefPv"
      },
      "outputs": [],
      "source": [
        "def v():#defining function\n",
        "  print(\"hello world\")"
      ]
    },
    {
      "cell_type": "code",
      "execution_count": null,
      "metadata": {
        "id": "Qm5aob8dCi5l"
      },
      "outputs": [],
      "source": [
        "c=0\n",
        "def v():\n",
        "  print(\"hello world\")\n",
        "  c=a*b\n",
        "  print(c)\n",
        "a=int(input(\"enter\"))\n",
        "b=int(input(\"enter\"))\n",
        "v()"
      ]
    },
    {
      "cell_type": "code",
      "execution_count": null,
      "metadata": {
        "id": "UbnZXwghE4zV"
      },
      "outputs": [],
      "source": [
        "def v(fname=\"vinay\",lname=\"kumar\"):\n",
        "  print(\"chakravartula\",fname,lname)\n",
        "v(lname=\"vinay\",fname=\"kumar\")\n",
        "v(\"vijay\",\"kumar\")\n",
        "v()"
      ]
    },
    {
      "cell_type": "code",
      "execution_count": null,
      "metadata": {
        "id": "lORYgJ-uGvGe"
      },
      "outputs": [],
      "source": [
        "def v(food):\n",
        "  for x in food:\n",
        "    if x==\"karbuza\":\n",
        "      continue\n",
        "    print(x)\n",
        "fruits=[\"apple\",\"cherry\",\"karbuza\"]\n",
        "v(fruits)"
      ]
    },
    {
      "cell_type": "code",
      "execution_count": null,
      "metadata": {
        "id": "DDlxHtBEHq95"
      },
      "outputs": [],
      "source": [
        "def v(x):\n",
        "  pass\n",
        "  print(5*x)\n",
        "v(5)\n",
        "v(10)"
      ]
    },
    {
      "cell_type": "code",
      "execution_count": null,
      "metadata": {
        "id": "NAKeYDF3IYSG"
      },
      "outputs": [],
      "source": [
        "def v():\n",
        "  pass"
      ]
    },
    {
      "cell_type": "code",
      "execution_count": null,
      "metadata": {
        "id": "MA17xglyIxy4"
      },
      "outputs": [],
      "source": [
        "def v(s=range(1,10)):\n",
        "     print(s)\n",
        "v(range(2,4))\n",
        "v()"
      ]
    },
    {
      "cell_type": "code",
      "execution_count": null,
      "metadata": {
        "id": "c7aZb7WgJ-Oa"
      },
      "outputs": [],
      "source": [
        "def v(name):\n",
        "  message=\"hi!\",name\n",
        "  return message\n",
        "v(\"harsha\")\n"
      ]
    },
    {
      "cell_type": "code",
      "execution_count": null,
      "metadata": {
        "id": "bdrDwM17KicN"
      },
      "outputs": [],
      "source": [
        "def v(name):\n",
        "  print(\"hi\",name)\n",
        "v('vinay')\n"
      ]
    },
    {
      "cell_type": "code",
      "execution_count": null,
      "metadata": {
        "id": "g-4_aJN8Ksoc"
      },
      "outputs": [],
      "source": [
        "def v(fname,lname):\n",
        "  s=\"chakravartula\",fname,lname\n",
        "  return s\n",
        "full_name = v(\"vinay\",\"kumar\")\n",
        "print(full_name)\n",
        "\n",
        "\n"
      ]
    },
    {
      "cell_type": "code",
      "execution_count": null,
      "metadata": {
        "id": "affVmhNOLwUJ"
      },
      "outputs": [],
      "source": [
        "def v(num1,num2):\n",
        "  sum=num1+num2\n",
        "  return sum\n",
        "result=v(54,46)\n",
        "print(result)"
      ]
    },
    {
      "cell_type": "code",
      "execution_count": null,
      "metadata": {
        "id": "WTcvQ95pMdIb"
      },
      "outputs": [],
      "source": [
        "def v(num1,num2):\n",
        "  sum=num1+num2\n",
        "  print('the sum is: ',sum)\n",
        "v(46,54)"
      ]
    },
    {
      "cell_type": "code",
      "execution_count": null,
      "metadata": {
        "id": "KRKiOCrkM4cv"
      },
      "outputs": [],
      "source": [
        "def v(*fruits):\n",
        "  print(fruits[2])\n",
        "v(\"apple\",\"cherry\",\"strawberry\",\"banana\")\n"
      ]
    },
    {
      "cell_type": "code",
      "execution_count": null,
      "metadata": {
        "id": "3iD300IE3Jc9"
      },
      "outputs": [],
      "source": [
        "def my_function(**kid):\n",
        "  print(\"His last name is \" + kid[\"lname\"])\n",
        "\n",
        "my_function(fname = \"Tobias\", lname = \"Refsnes\")"
      ]
    },
    {
      "cell_type": "code",
      "execution_count": null,
      "metadata": {
        "id": "rR1tiCh03im7"
      },
      "outputs": [],
      "source": [
        "def v(*std):\n",
        "  print(\"first rank goes to : \",std[3])\n",
        "v(\"vinay\",\"harsha\",\"vijay\",\"kalyani\",\"harsha\")\n"
      ]
    },
    {
      "cell_type": "code",
      "execution_count": null,
      "metadata": {
        "id": "GC5MDvN64IRo"
      },
      "outputs": [],
      "source": [
        "def  v(**std):\n",
        "  print(\"good student of the year:\",std[\"worst\"])\n",
        "v(good=\"vinay\",bad=\"harsha\",worst=\"vijay\")"
      ]
    },
    {
      "cell_type": "code",
      "execution_count": null,
      "metadata": {
        "id": "9iakxl3k4gJa"
      },
      "outputs": [],
      "source": [
        "def v(num1,num2=6):\n",
        "  add=num1+num2\n",
        "  print(\"addition is:\",add)\n",
        "v(num2=7,num1=8)"
      ]
    },
    {
      "cell_type": "code",
      "execution_count": null,
      "metadata": {
        "id": "rrcugh_040Ps"
      },
      "outputs": [],
      "source": [
        "def v(name):\n",
        "  print(\"hello!,\",name)\n",
        "  print(\" the length of the name is :\" , len(name))\n",
        "v(\"vinay\")\n"
      ]
    },
    {
      "cell_type": "code",
      "execution_count": null,
      "metadata": {
        "id": "3fv8i-6672Ta"
      },
      "outputs": [],
      "source": [
        "def v():\n",
        "  print(\"hello world!\")\n",
        "v()\n"
      ]
    },
    {
      "cell_type": "code",
      "execution_count": null,
      "metadata": {
        "id": "FM45T4X48K7c"
      },
      "outputs": [],
      "source": [
        "def concatenate_strings(*args):\n",
        "    result = \"\"\n",
        "    for string in args:\n",
        "        result += string\n",
        "    return result\n",
        "\n",
        "concatenated_string = concatenate_strings(\"Hello\", \" \", \"World\", \"!\")\n",
        "print(\"Concatenated string:\", concatenated_string)"
      ]
    },
    {
      "cell_type": "code",
      "execution_count": null,
      "metadata": {
        "id": "Mwh5vvix9Ayd"
      },
      "outputs": [],
      "source": [
        "def v(*args):\n",
        "  sum=0\n",
        "  for x in args:\n",
        "    sum+=x\n",
        "  print(\" sum:\",sum)\n",
        "v(1,2,3,4,5,6,7,8,9,10)"
      ]
    },
    {
      "cell_type": "code",
      "execution_count": null,
      "metadata": {
        "id": "vYrsziXi9pVZ"
      },
      "outputs": [],
      "source": [
        "def v(num):\n",
        "  sum=0\n",
        "  for x in num:\n",
        "    sum+=x\n",
        "  print(\"sum:\",sum)\n",
        "t=num=[1,2,3,4,5,6,7,8,9,10]\n",
        "v(t)"
      ]
    },
    {
      "cell_type": "code",
      "execution_count": null,
      "metadata": {
        "id": "twq_b5J7-IHG"
      },
      "outputs": [],
      "source": [
        "# a code to display tables\n",
        "def v(*args):\n",
        "  for i in args:\n",
        "    for j in range(1,11):\n",
        "      print(i,\"x\",j,\"=\",i*j)\n",
        "    print()\n",
        "v(2,4)\n",
        "\n",
        "\n",
        "\n"
      ]
    },
    {
      "cell_type": "code",
      "execution_count": null,
      "metadata": {
        "id": "BQsrp5rq-9lo"
      },
      "outputs": [],
      "source": [
        "numbers=[1,2,3,4,6,67,78]\n",
        "print(\"length:\",len(numbers))\n",
        "print(\"maximum:\",max(numbers))\n",
        "print(\"minimum:\",min(numbers))"
      ]
    },
    {
      "cell_type": "code",
      "execution_count": null,
      "metadata": {
        "id": "i86swmf6D8_L"
      },
      "outputs": [],
      "source": [
        "import numpy as np\n",
        "mean=np.mean(numbers)\n",
        "median=np.median(numbers)\n",
        "print(mean,median)"
      ]
    },
    {
      "cell_type": "code",
      "execution_count": null,
      "metadata": {
        "id": "QEVnEaIPMnmH"
      },
      "outputs": [],
      "source": [
        "import math as m\n",
        "v=m.sqrt(12)\n",
        "print(format(v,\".2f\"))"
      ]
    },
    {
      "cell_type": "code",
      "execution_count": null,
      "metadata": {
        "id": "fu8HE4Z1M_5J"
      },
      "outputs": [],
      "source": [
        "import random as ran\n",
        "ran.randint(1,10)"
      ]
    },
    {
      "cell_type": "code",
      "execution_count": null,
      "metadata": {
        "id": "kjgiw4muNMFW"
      },
      "outputs": [],
      "source": [
        "import random as ran\n",
        "v=ran.uniform(1,2)\n",
        "print(format(v,\".2f\"))"
      ]
    },
    {
      "cell_type": "code",
      "execution_count": null,
      "metadata": {
        "id": "49ccRauEO67P"
      },
      "outputs": [],
      "source": [
        "import statistics as stat ### note\n",
        "stat.mean([1,2,3,4,5])"
      ]
    },
    {
      "cell_type": "code",
      "execution_count": null,
      "metadata": {
        "id": "8s_ehjKIS9dq"
      },
      "outputs": [],
      "source": [
        "b = \"Hello, World!\"\n",
        "print(b[:5])"
      ]
    },
    {
      "cell_type": "code",
      "execution_count": null,
      "metadata": {
        "id": "zMjqT2wvc8NS"
      },
      "outputs": [],
      "source": [
        "b = \"Hello, World!\"\n",
        "print(b[:-1])"
      ]
    },
    {
      "cell_type": "markdown",
      "metadata": {
        "id": "FWueutAF1nct"
      },
      "source": [
        "Problem 2: Average of Even Numbers Implement a function average_of_evens() that takes a list of integer numbers and returns the average of all even numbers in the list.The function should return 0 if there are no even numbers in the list."
      ]
    },
    {
      "cell_type": "code",
      "execution_count": null,
      "metadata": {
        "id": "dZ22bYuZ1pI8"
      },
      "outputs": [],
      "source": [
        "def average_of_evens(num):\n",
        "  sum=0\n",
        "  number=0\n",
        "  average=0\n",
        "  for x in num:\n",
        "    if x%2==0:\n",
        "      sum+=x\n",
        "      number+=1\n",
        "  average=sum/number\n",
        "  print(f\"the average of evens in the list:{average}\")\n",
        "num=[1,2,3,4,5]\n",
        "average_of_evens(num)"
      ]
    },
    {
      "cell_type": "markdown",
      "metadata": {
        "id": "KEK5VzbXQhvD"
      },
      "source": [
        "# list"
      ]
    },
    {
      "cell_type": "code",
      "execution_count": null,
      "metadata": {
        "id": "6D4VEMs-hJvJ"
      },
      "outputs": [],
      "source": [
        "v=[1,\"vinay\",2,'vijay',3,'kalyani',4,'vinay']\n",
        "print(v)\n",
        "print(len(v))\n",
        "print(type(v))\n",
        "print(id(v))"
      ]
    },
    {
      "cell_type": "code",
      "execution_count": null,
      "metadata": {
        "id": "KY1c3PsZOljS"
      },
      "outputs": [],
      "source": [
        "# access the elements\n",
        "v=[1,'vinay',2,'vijay',3,'kalyani',4,'vinay']\n",
        "a=v[1]\n",
        "print(a)\n",
        "a=v[1:6]\n",
        "print(a)\n",
        "c=v[::-1]\n",
        "print(c)\n",
        "a=v[-1]\n",
        "print(a)\n",
        "x=v[-4:]\n",
        "print(x)\n",
        "v.index(3)"
      ]
    },
    {
      "cell_type": "code",
      "execution_count": null,
      "metadata": {
        "id": "49mfT_ocTW8_"
      },
      "outputs": [],
      "source": [
        "v=[1,'vinay',2,'vijay',3,'kalyani',4,'vinay']\n",
        "print('vinay' not in v)\n",
        "if 'vinay' not in v:\n",
        "  print('yes')"
      ]
    },
    {
      "cell_type": "code",
      "execution_count": null,
      "metadata": {
        "id": "P4X_33jvVX3I"
      },
      "outputs": [],
      "source": [
        "# mmodifying lists\n",
        "v=[1,'vinay',2,'vijay',3,'kalyani',4,'vinay']\n",
        "v[1]='harsha'\n",
        "print(v)\n",
        "v[1:]=[2]\n",
        "print(v)\n",
        "v[1:2]=[2,'vinay',3,'vijay',4,'kalyani']\n",
        "print(v)"
      ]
    },
    {
      "cell_type": "code",
      "execution_count": null,
      "metadata": {
        "id": "uM8d0FUEVk8G"
      },
      "outputs": [],
      "source": [
        "v=[1,'vinay',2,'vijay',3,'kalyani',4,'vinay']\n",
        "v.insert(2,\"vinay\")\n",
        "print(v)\n",
        "v.append(2)\n",
        "print(v)\n",
        "v.append('vinay')\n",
        "print(v)\n",
        "h=[1,2,3,4,5]\n",
        "v.extend(h)\n",
        "print(v)\n",
        "h.extend(v)\n",
        "print(h)\n",
        "list3=v+h\n",
        "print(list3)"
      ]
    },
    {
      "cell_type": "code",
      "execution_count": null,
      "metadata": {
        "id": "OL8osyL3XkgW"
      },
      "outputs": [],
      "source": [
        "#removing elements in a list\n",
        "v=[1,'vinay',2,'vijay',3,'kalyani',4,'vinay']\n",
        "del v[1]\n",
        "v.append('vinay')\n",
        "print(v)\n",
        "v.remove(2)\n",
        "print(v)\n",
        "v.pop(1)\n",
        "print(v)\n",
        "v.clear()\n",
        "print(v)"
      ]
    },
    {
      "cell_type": "code",
      "execution_count": null,
      "metadata": {
        "id": "qHO3T_y1YZjw"
      },
      "outputs": [],
      "source": [
        "#\n",
        "v=[1,'vinay',2,'vijay',3,'kalyani']\n",
        "for x in v:\n",
        "  print(v)\n",
        "for t in v:\n",
        "  print(t)\n"
      ]
    },
    {
      "cell_type": "code",
      "execution_count": null,
      "metadata": {
        "id": "pDyDi88BZkpE"
      },
      "outputs": [],
      "source": [
        "thislist = [\"apple\", \"banana\", \"cherry\"]\n",
        "for i in range(len(v)):\n",
        "  print(v[i])"
      ]
    },
    {
      "cell_type": "code",
      "execution_count": null,
      "metadata": {
        "id": "cMz4n_tDai7-"
      },
      "outputs": [],
      "source": [
        "#list comprehension\n",
        "v=[1,'vinay',2,'vijay',3,'kalyani']\n",
        "for x in v:\n",
        "  print(x)\n",
        "[print(x) for x in v]"
      ]
    },
    {
      "cell_type": "code",
      "execution_count": null,
      "metadata": {
        "id": "5AqZ4OcCbIi3"
      },
      "outputs": [],
      "source": [
        "v=['vinay','vijay','kalyani','kuw']\n",
        "n=[]\n",
        "for i in v:\n",
        "  if 'a' not in i:\n",
        "     n.append(i)\n",
        "print(n)"
      ]
    },
    {
      "cell_type": "code",
      "execution_count": null,
      "metadata": {
        "id": "cOXZE4l4pOAW"
      },
      "outputs": [],
      "source": [
        "v=['vinay','vijay','kalyani','kuw']\n",
        "n=[]\n",
        "n=[i for i  in v if 'a' not in i]\n",
        "print(n)"
      ]
    },
    {
      "cell_type": "code",
      "execution_count": null,
      "metadata": {
        "id": "BlnRBJdIpFau"
      },
      "outputs": [],
      "source": [
        "fruits = [\"apple\", \"banana\", \"cherry\", \"kiwi\", \"mango\"]\n",
        "newlist = []\n",
        "\n",
        "for x in fruits:\n",
        "  if \"a\" in x:\n",
        "    newlist.append(x)\n",
        "\n",
        "print(newlist)"
      ]
    },
    {
      "cell_type": "code",
      "execution_count": null,
      "metadata": {
        "id": "i9XvBzRmoPce"
      },
      "outputs": [],
      "source": [
        "fruits = [\"apple\", \"banana\", \"cherry\", \"kiwi\", \"mango\"]\n",
        "# newlist = [expression for item in iterable if condition == True] syntax for comprehension list\n",
        "newlist = [x for x in fruits if \"a\" in x]\n",
        "\n",
        "print(newlist)"
      ]
    },
    {
      "cell_type": "code",
      "execution_count": null,
      "metadata": {
        "id": "b9PWn468pB4u"
      },
      "outputs": [],
      "source": [
        "v=[x for x in range(10)]\n",
        "print(v)"
      ]
    },
    {
      "cell_type": "code",
      "execution_count": null,
      "metadata": {
        "id": "8oNxOe8Kqdkm"
      },
      "outputs": [],
      "source": [
        "v=[x for x in range(10) if x>5]\n",
        "print(v)"
      ]
    },
    {
      "cell_type": "code",
      "execution_count": null,
      "metadata": {
        "id": "e0fupdRWq0We"
      },
      "outputs": [],
      "source": [
        "fruits = [\"apple\", \"banana\", \"cherry\", \"kiwi\", \"mango\"]\n",
        "v=[x.upper() for x in fruits]\n",
        "print(v)"
      ]
    },
    {
      "cell_type": "code",
      "execution_count": null,
      "metadata": {
        "id": "gEzQndbjrhAR"
      },
      "outputs": [],
      "source": [
        "v=[x for x in range(10)]\n",
        "print(v)\n"
      ]
    },
    {
      "cell_type": "code",
      "execution_count": null,
      "metadata": {
        "id": "sbk2-yAkrxOY"
      },
      "outputs": [],
      "source": [
        "fruits = [\"apple\", \"banana\", \"cherry\", \"kiwi\", \"mango\"]\n",
        "v=[x.upper() for x in fruits]\n",
        "print(v)"
      ]
    },
    {
      "cell_type": "code",
      "execution_count": null,
      "metadata": {
        "id": "HaRJXeTSsPmG"
      },
      "outputs": [],
      "source": [
        "fruits = [\"apple\", \"banana\", \"cherry\", \"kiwi\", \"mango\"]\n",
        "for x in fruits:\n",
        "    if 'a' in x:\n",
        "      print(x)\n"
      ]
    },
    {
      "cell_type": "code",
      "execution_count": null,
      "metadata": {
        "id": "cuEgfsUPs3Aj"
      },
      "outputs": [],
      "source": [
        "fruits = [\"apple\", \"banana\", \"cherry\", \"kiwi\", \"mango\"]\n",
        "[x for x in fruits if 'a' in x]"
      ]
    },
    {
      "cell_type": "code",
      "execution_count": null,
      "metadata": {
        "id": "qTRcVFD4tRiD"
      },
      "outputs": [],
      "source": [
        "# sorting lists\n",
        "v=['vinay','Vijay','kalyani']\n",
        "v.sort()\n",
        "print(v)"
      ]
    },
    {
      "cell_type": "code",
      "execution_count": null,
      "metadata": {
        "id": "DdAKurOpuDcn"
      },
      "outputs": [],
      "source": [
        "s=[100, 50, 65, 82, 23]\n",
        "s.sort(reverse=True)\n",
        "print(s)\n",
        "s.reverse()\n",
        "print(s)"
      ]
    },
    {
      "cell_type": "code",
      "execution_count": null,
      "metadata": {
        "id": "ERim7mIguPie"
      },
      "outputs": [],
      "source": [
        "v.sort(key=str.upper)\n",
        "print(v)"
      ]
    },
    {
      "cell_type": "code",
      "execution_count": null,
      "metadata": {
        "id": "VTlW_DPJu0YU"
      },
      "outputs": [],
      "source": [
        "v= [100, 50, 65, 82, 23]\n",
        "n=v.copy()\n",
        "print(n)"
      ]
    },
    {
      "cell_type": "code",
      "execution_count": null,
      "metadata": {
        "id": "gr8mTL3QvTXB"
      },
      "outputs": [],
      "source": [
        "#joining lists\n",
        "fruits = [\"apple\", \"banana\", \"cherry\", \"kiwi\", \"mango\"]\n",
        "v=['vinay','Vijay','kalyani']\n",
        "n=fruits+v\n",
        "print(n)\n",
        "fruits.extend(v)\n",
        "print(fruits)"
      ]
    },
    {
      "cell_type": "code",
      "execution_count": null,
      "metadata": {
        "id": "zOfHe5gHv3he"
      },
      "outputs": [],
      "source": [
        "fruits = [\"apple\", \"banana\", \"cherry\", \"kiwi\", \"mango\"]\n",
        "v=['vinay','Vijay','kalyani']\n"
      ]
    },
    {
      "cell_type": "code",
      "execution_count": null,
      "metadata": {
        "id": "jlNwyswuyYRP"
      },
      "outputs": [],
      "source": [
        "v=[1,'vinay',2,'vijay',3,'kalyani']\n",
        "n=v[1:6:2]\n",
        "print(n)"
      ]
    },
    {
      "cell_type": "code",
      "execution_count": null,
      "metadata": {
        "id": "Jn9zjdiQzMXv"
      },
      "outputs": [],
      "source": [
        "v=[1,'vinay',2,'vijay',3,'kalyani']\n",
        "n=v*3\n",
        "print(n)"
      ]
    },
    {
      "cell_type": "code",
      "execution_count": null,
      "metadata": {
        "id": "9ZFJdrkazlU-"
      },
      "outputs": [],
      "source": [
        "v=[1,2,3,4,5]\n",
        "[i**2 for i in v if i%2!=0]"
      ]
    },
    {
      "cell_type": "code",
      "execution_count": null,
      "metadata": {
        "id": "M5IBgSYM0Wsm"
      },
      "outputs": [],
      "source": [
        "fruits = [\"apple\", \"banana\", \"cherry\", \"kiwi\", \"mango\"]\n",
        "[i.upper() for i in fruits]"
      ]
    },
    {
      "cell_type": "code",
      "execution_count": null,
      "metadata": {
        "id": "IRUflysE0nIu"
      },
      "outputs": [],
      "source": [
        "v=[1,2,3,4,5]\n",
        "n=min(v)#accesing min value in the list\n",
        "print(n)\n",
        "s=max(v)\n",
        "print(s)\n",
        "v.index(4)"
      ]
    },
    {
      "cell_type": "code",
      "execution_count": null,
      "metadata": {
        "id": "fSkmCqGd0x00"
      },
      "outputs": [],
      "source": [
        "v=list(input(\" enter the valuess\"))\n",
        "print(list(v))"
      ]
    },
    {
      "cell_type": "code",
      "execution_count": null,
      "metadata": {
        "id": "Bdol8bdp1590"
      },
      "outputs": [],
      "source": [
        "v=[]\n",
        "while True:\n",
        "  s=input('enter a value')\n",
        "  if s=='quit':\n",
        "    break\n",
        "  v.append(s)\n",
        "print(v)"
      ]
    },
    {
      "cell_type": "code",
      "execution_count": null,
      "metadata": {
        "id": "Nd6QlV8r-mVF"
      },
      "outputs": [],
      "source": [
        "user_input = []\n",
        "while True:\n",
        "  s=input(\"enter the values\")\n",
        "  if s=='quit':\n",
        "    break\n",
        "  user_input.append(s)\n",
        "print(user_input)"
      ]
    },
    {
      "cell_type": "markdown",
      "metadata": {
        "id": "fsl7M-m29MsY"
      },
      "source": [
        "2# Tuples"
      ]
    },
    {
      "cell_type": "code",
      "execution_count": null,
      "metadata": {
        "id": "MmokBkjL6lO9"
      },
      "outputs": [],
      "source": [
        "v=(1,2,3,'vinay','kumar')\n",
        "print(type(v))\n",
        "print(len(v))"
      ]
    },
    {
      "cell_type": "code",
      "execution_count": null,
      "metadata": {
        "id": "NP2SlnsV9bLs"
      },
      "outputs": [],
      "source": [
        "z=list(v)\n",
        "z[1]='vinay'\n",
        "v=tuple(z)\n",
        "print(v)"
      ]
    },
    {
      "cell_type": "code",
      "execution_count": null,
      "metadata": {
        "id": "1dZv-c4lAa_T"
      },
      "outputs": [],
      "source": [
        "v=(1,2,3,'vinay','kumar')\n",
        "y=list(v)\n",
        "y.append('chakravartula')\n",
        "v=tuple(y)\n",
        "print(v)"
      ]
    },
    {
      "cell_type": "code",
      "execution_count": null,
      "metadata": {
        "id": "hFwyTGj0BX7f"
      },
      "outputs": [],
      "source": [
        "v=(1,2,3,'vinay','kumar')\n",
        "a,b,c,d,e = v\n",
        "print(a,b,c,d,e)"
      ]
    },
    {
      "cell_type": "code",
      "execution_count": null,
      "metadata": {
        "id": "1OATQaWvCQ0V"
      },
      "outputs": [],
      "source": [
        "v=(1,2,3,'vinay','kumar',2,3,4)\n",
        "a,*b,c=v\n",
        "print(a,b,c)"
      ]
    },
    {
      "cell_type": "code",
      "execution_count": null,
      "metadata": {
        "id": "4XzpI441LzJV"
      },
      "outputs": [],
      "source": [
        "v=('vinay','kumar','vijay','vijay')\n",
        "[x.upper() for x in v ]"
      ]
    },
    {
      "cell_type": "code",
      "execution_count": null,
      "metadata": {
        "id": "Tv4SMUr0Mp1A"
      },
      "outputs": [],
      "source": [
        "# strings\n",
        "v=\"hello vinay welcome to python\"\n",
        "print(len(v))\n",
        "v.replace('o','v')"
      ]
    },
    {
      "cell_type": "markdown",
      "metadata": {
        "id": "KkaMc0CkQb1P"
      },
      "source": [
        "# sets"
      ]
    },
    {
      "cell_type": "code",
      "execution_count": null,
      "metadata": {
        "id": "_4MaDXiXN9cT"
      },
      "outputs": [],
      "source": [
        "v={1,2,3,4,5}\n",
        "print(v)"
      ]
    },
    {
      "cell_type": "code",
      "execution_count": null,
      "metadata": {
        "id": "O7N9p0aFQwz_"
      },
      "outputs": [],
      "source": [
        "v={1,2,3,4,5,'vinay','kumar'}\n",
        "v.add('kalyani')\n",
        "print(v)"
      ]
    },
    {
      "cell_type": "code",
      "execution_count": null,
      "metadata": {
        "id": "aN6ju8wVRvPu"
      },
      "outputs": [],
      "source": [
        "v={1,2,3,4,5,'vinay','kumar'}\n",
        "h={'harsha','vijay'}\n",
        "v.update(h)\n",
        "print(v)"
      ]
    },
    {
      "cell_type": "code",
      "execution_count": null,
      "metadata": {
        "id": "HGJcv52SSZfg"
      },
      "outputs": [],
      "source": [
        "v={1,2,3,4,5,'vinay','kumar'}\n",
        "v.clear()\n",
        "print(v)"
      ]
    },
    {
      "cell_type": "code",
      "execution_count": null,
      "metadata": {
        "id": "HZ2etpCcShek"
      },
      "outputs": [],
      "source": [
        "v={1,2,3}\n",
        "h={3,5,4}\n",
        "h.symmetric_difference(v)\n",
        "n=v-h\n",
        "print(n)"
      ]
    },
    {
      "cell_type": "code",
      "execution_count": null,
      "metadata": {
        "id": "wfBfQD6LT2m1"
      },
      "outputs": [],
      "source": [
        "v=[1,2,2,2,2,3,4,5]\n",
        "print(list(set(v)))"
      ]
    },
    {
      "cell_type": "markdown",
      "metadata": {
        "id": "sZTzUCvDVykg"
      },
      "source": [
        "# dictionaries"
      ]
    },
    {
      "cell_type": "code",
      "execution_count": null,
      "metadata": {
        "id": "6pRYA5csVNfB"
      },
      "outputs": [],
      "source": [
        "d={\"name\":\"vinay\",\"roll no\":203,\"section\":\"c\",\"good boy\":True,\"colors\":[\"red\",\"green\"]}\n",
        "print(d)\n",
        "print(d[\"colors\"])"
      ]
    },
    {
      "cell_type": "code",
      "execution_count": null,
      "metadata": {
        "id": "lqFYOJyfjyGy"
      },
      "outputs": [],
      "source": [
        "d = {\"brand\": \"Ford\",\"model\": \"Mustang\",\"year\": 1964}\n",
        "x=d[\"brand\"]\n",
        "print(x)\n",
        "print(d[\"brand\"])\n",
        "print(d[\"model\"])\n",
        "x=d.get(\"model\")\n",
        "print(x)\n",
        "d.keys()\n",
        "d[\"color\"]=[\"red\",\"blue\"]\n",
        "print(d)\n",
        "d.values()\n",
        "d.items()\n",
        "print(\"model\" in d)"
      ]
    },
    {
      "cell_type": "code",
      "execution_count": null,
      "metadata": {
        "id": "fNNIWNFcm9Dl"
      },
      "outputs": [],
      "source": [
        "d = {\"brand\": \"Ford\",\"model\": \"Mustang\",\"year\": 1964}\n",
        "d.update({\"year\":2000})\n",
        "print(d)"
      ]
    },
    {
      "cell_type": "code",
      "execution_count": null,
      "metadata": {
        "id": "wTRc8t0GpiZm"
      },
      "outputs": [],
      "source": [
        "d = {\"brand\": \"Ford\",\"model\": \"Mustang\",\"year\": 1964}\n",
        "d[\"year\"]=2000\n",
        "print(d)"
      ]
    },
    {
      "cell_type": "code",
      "execution_count": null,
      "metadata": {
        "id": "LWRed7UDp4_Q"
      },
      "outputs": [],
      "source": [
        "d = {\"brand\": \"Ford\",\"model\": \"Mustang\",\"year\": 1964}\n",
        "del d[\"model\"]\n",
        "print(d)"
      ]
    },
    {
      "cell_type": "code",
      "execution_count": null,
      "metadata": {
        "id": "EX3PgztRqfrG"
      },
      "outputs": [],
      "source": [
        "d = {\"brand\": \"Ford\",\"model\": \"Mustang\",\"year\": 1964}\n",
        "for x in d:\n",
        "  print(x)\n",
        "for x in d:\n",
        "  print(d[x])"
      ]
    },
    {
      "cell_type": "code",
      "execution_count": null,
      "metadata": {
        "id": "4TCdn3WRs8WU"
      },
      "outputs": [],
      "source": [
        "d = {\"brand\": \"Ford\",\"model\": \"Mustang\",\"year\": 1964}\n",
        "d.items()"
      ]
    },
    {
      "cell_type": "code",
      "execution_count": null,
      "metadata": {
        "id": "E3nRpTbTrpQY"
      },
      "outputs": [],
      "source": [
        "d = {\"brand\": \"Ford\",\"model\": \"Mustang\",\"year\": 1964}\n",
        "for x in d.items():\n",
        "  print(x)"
      ]
    },
    {
      "cell_type": "code",
      "execution_count": null,
      "metadata": {
        "id": "b5ZLQIb8sip2"
      },
      "outputs": [],
      "source": [
        "d = {\"brand\": \"Ford\",\"model\": \"Mustang\",\"year\": 1964}\n",
        "for x,y in d.items():\n",
        "  print(x)\n",
        "  print(y)"
      ]
    },
    {
      "cell_type": "code",
      "execution_count": null,
      "metadata": {
        "id": "TdtTrCPosyLz"
      },
      "outputs": [],
      "source": [
        "myfamily = {\"child1\" : {\"name\" : \"Emil\",\"year\" : 2004 },\"child2\" : {\"name\" : \"Tobias\",\"year\" : 2007},\"child3\" : {\"name\" : \"Linus\",\"year\" : 2011}}"
      ]
    },
    {
      "cell_type": "code",
      "execution_count": null,
      "metadata": {
        "id": "DBKaUptLuCqu"
      },
      "outputs": [],
      "source": [
        "myfamily = {\n",
        "  \"child1\" : {\n",
        "    \"name\" : \"Emil\",\n",
        "    \"year\" : 2004\n",
        "  },\n",
        "  \"child2\" : {\n",
        "    \"name\" : \"Tobias\",\n",
        "    \"year\" : 2007\n",
        "  },\n",
        "  \"child3\" : {\n",
        "    \"name\" : \"Linus\",\n",
        "    \"year\" : 2011\n",
        "  }\n",
        "}"
      ]
    },
    {
      "cell_type": "code",
      "execution_count": null,
      "metadata": {
        "id": "EyX53FTTugC5"
      },
      "outputs": [],
      "source": [
        "child1 = {\n",
        "  \"name\" : \"Emil\",\n",
        "  \"year\" : 2004\n",
        "}\n",
        "child2 = {\n",
        "  \"name\" : \"Tobias\",\n",
        "  \"year\" : 2007\n",
        "}\n",
        "child3 = {\n",
        "  \"name\" : \"Linus\",\n",
        "  \"year\" : 2011\n",
        "}\n",
        "\n",
        "myfamily = {\n",
        "  \"child1\" : child1,\n",
        "  \"child2\" : child2,\n",
        "  \"child3\" : child3\n",
        "}\n",
        "print(myfamily[\"child2\"][\"year\"])"
      ]
    },
    {
      "cell_type": "code",
      "execution_count": null,
      "metadata": {
        "id": "29GVfDxTu5xz"
      },
      "outputs": [],
      "source": [
        "import json\n",
        "person = {\n",
        " \"name\": \"John\",\n",
        " \"age\": 25,\n",
        " \"address\": {\n",
        "     \"street\": \"123 Main St\",\n",
        "     \"city\": \"New York\"\n",
        " }\n",
        "}\n",
        "# Converting dictionary to JSON string\n",
        "json_data = json.dumps(person)\n",
        "print(json_data)\n",
        "# Converting JSON string to dictionary\n",
        "# person_dict = json.loads(json_data)\n",
        "# print(person_dict[\"name\"])  # Output: \"John\""
      ]
    },
    {
      "cell_type": "code",
      "execution_count": null,
      "metadata": {
        "id": "rK9pnkuhwj9R"
      },
      "outputs": [],
      "source": [
        "d = {\"brand\": \"Ford\",\"model\": \"Mustang\",\"year\": 1964}\n",
        "import json\n",
        "j=json.dumps(d)\n",
        "print(j)"
      ]
    },
    {
      "cell_type": "code",
      "execution_count": null,
      "metadata": {
        "id": "bqGx5SiIxVBn"
      },
      "outputs": [],
      "source": [
        "v={\"name\",\"age\",'city'}\n",
        "t={\"vinay\",21,\"hyderabad\"}\n",
        "d=dict(zip(v,t))#zipping\n",
        "print(d)"
      ]
    },
    {
      "cell_type": "code",
      "execution_count": null,
      "metadata": {
        "id": "2ywfTyU3xm71"
      },
      "outputs": [],
      "source": [
        "d = {\"brand\": \"Ford\",\"model\": \"Mustang\",\"year\": 1964}\n",
        "list1=list(d.keys())\n",
        "print(list1)\n",
        "print(list(d.values()))"
      ]
    },
    {
      "cell_type": "markdown",
      "metadata": {
        "id": "ktaYzIM5VJsh"
      },
      "source": [
        "# numerical python--numpy\n",
        "## NumPy is a Python library.NumPy is used for working with arrays"
      ]
    },
    {
      "cell_type": "code",
      "execution_count": null,
      "metadata": {
        "id": "gVORlffq2Dkz"
      },
      "outputs": [],
      "source": [
        "import numpy as np\n",
        "print(np.__version__)# version of numpy.\n",
        "arr=np.array([1,2,3,4,5,6])\n",
        "print(arr)\n",
        "print(type(arr))\n",
        "print(id(arr))"
      ]
    },
    {
      "cell_type": "code",
      "execution_count": null,
      "metadata": {
        "id": "MF2Jatk_2fPg"
      },
      "outputs": [],
      "source": [
        "arr=np.array((1,2,3,4,5))\n",
        "print(arr)\n",
        "print(type(arr))\n",
        "print(id(arr))"
      ]
    },
    {
      "cell_type": "code",
      "execution_count": null,
      "metadata": {
        "id": "N4S52Nod6E7Y"
      },
      "outputs": [],
      "source": [
        "arr=np.array(42)##0-D array\n",
        "print(arr)"
      ]
    },
    {
      "cell_type": "code",
      "execution_count": null,
      "metadata": {
        "id": "2pd8DEHn7UEI"
      },
      "outputs": [],
      "source": [
        "arr=np.array([1,2,3,4,5])##1-D array\n",
        "# print(arr)\n",
        "v=np.array([[1,2,3],[4,5,6]])##2-D array\n",
        "# print(v)\n",
        "s=np.array([[[1,2,3],[4,5,6],[2,3,4],[5,6,7]]])#3-D array\n",
        "# print(s)\n",
        "print(arr.ndim)\n",
        "print(v.ndim)\n",
        "print(s.ndim)"
      ]
    },
    {
      "cell_type": "markdown",
      "metadata": {
        "id": "GZI9_4n792hO"
      },
      "source": [
        "# accesing numpy array"
      ]
    },
    {
      "cell_type": "code",
      "execution_count": null,
      "metadata": {
        "id": "tmT4g-g_9-52"
      },
      "outputs": [],
      "source": [
        "arr=np.array([1,2,3,4,5])\n",
        "print(arr[-1])#1-D array accesing\n",
        "print(arr[1]*arr[2])"
      ]
    },
    {
      "cell_type": "code",
      "execution_count": null,
      "metadata": {
        "id": "dFhlyWpd-ISg"
      },
      "outputs": [],
      "source": [
        "arr = np.array([[1,2,3,4,5], [6,7,8,9,10]])#2-D arrays\n",
        "print(\" 2nd element on 1st row\",arr[0,1])\n",
        "print(\"5th element on 2nd row\",arr[1,4])"
      ]
    },
    {
      "cell_type": "code",
      "execution_count": null,
      "metadata": {
        "id": "uyOgN3Ns_5Rl"
      },
      "outputs": [],
      "source": [
        "arr = np.array([[[1, 2, 3], [4, 5, 6]], [[7, 8, 9], [10, 11, 12]]])\n",
        "print(arr[0,1,2])"
      ]
    },
    {
      "cell_type": "markdown",
      "metadata": {
        "id": "J-Lfg_ggBA6f"
      },
      "source": [
        "# slicing"
      ]
    },
    {
      "cell_type": "code",
      "execution_count": null,
      "metadata": {
        "id": "GTq9n-Io_5Lr"
      },
      "outputs": [],
      "source": [
        "arr = np.array([1, 2, 3, 4, 5, 6, 7])#slicing of 1-D array\n",
        "print(arr[2::2])\n",
        "print(arr[4:])"
      ]
    },
    {
      "cell_type": "code",
      "execution_count": null,
      "metadata": {
        "id": "21cbPHIIB-03"
      },
      "outputs": [],
      "source": [
        "arr = np.array([[1, 2, 3, 4, 5], [6, 7, 8, 9, 10]])#slicing of 2-D array\n",
        "print(arr[1,1:5])\n",
        "print(arr[0:2,1:4])"
      ]
    },
    {
      "cell_type": "markdown",
      "metadata": {
        "id": "9K5v_KLwFRQB"
      },
      "source": [
        "# numpy datatypes"
      ]
    },
    {
      "cell_type": "code",
      "execution_count": null,
      "metadata": {
        "id": "FE1GRsKYFQ2d"
      },
      "outputs": [],
      "source": [
        "arr=np.array([1,2,3,4,5])\n",
        "print(arr.dtype)"
      ]
    },
    {
      "cell_type": "code",
      "execution_count": null,
      "metadata": {
        "id": "G-WjDs0ME0XM"
      },
      "outputs": [],
      "source": [
        "arr = np.array(['apple', 'banana', 'cherry'])\n",
        "print(arr.dtype)\n",
        "arr=np.array([1,2,3])\n",
        "print(arr.dtype)"
      ]
    },
    {
      "cell_type": "code",
      "execution_count": null,
      "metadata": {
        "colab": {
          "base_uri": "https://localhost:8080/"
        },
        "id": "gFXTG0ZAGoGo",
        "outputId": "2503f8c5-79a4-4f21-ff57-2de2c70ddda9"
      },
      "outputs": [
        {
          "name": "stdout",
          "output_type": "stream",
          "text": [
            "[1 2 3]\n",
            "int32\n"
          ]
        }
      ],
      "source": [
        "import numpy as np\n",
        "arr = np.array([1.1, 2.1, 3.1])\n",
        "newarr = arr.astype('i')\n",
        "print(newarr)\n",
        "print(newarr.dtype)"
      ]
    },
    {
      "cell_type": "code",
      "execution_count": null,
      "metadata": {
        "id": "jZ6lgPyVHmDO"
      },
      "outputs": [],
      "source": [
        "arr=np.array([1.1,2.2,3.3])\n",
        "newaee=arr.astype('i')\n",
        "print(newaee)\n",
        "print(newaee.dtype)"
      ]
    },
    {
      "cell_type": "code",
      "execution_count": null,
      "metadata": {
        "id": "Aoa9t88EHwIk"
      },
      "outputs": [],
      "source": [
        "arr=np.array([1,0,3])\n",
        "newarr=arr.astype('b')\n",
        "print(newarr)\n"
      ]
    },
    {
      "cell_type": "code",
      "execution_count": null,
      "metadata": {
        "colab": {
          "base_uri": "https://localhost:8080/"
        },
        "id": "6TRuzIjvJKI2",
        "outputId": "241137d0-9e5d-45d3-f146-a5fba78dad8f"
      },
      "outputs": [
        {
          "name": "stdout",
          "output_type": "stream",
          "text": [
            "[42  2  3  4  5]\n",
            "[1 2 3 4 5]\n"
          ]
        }
      ],
      "source": [
        "import numpy as np\n",
        "arr = np.array([1, 2, 3, 4, 5])\n",
        "x = arr.copy()## copying a numpy array\n",
        "arr[0] = 42\n",
        "print(arr)\n",
        "print(x)"
      ]
    },
    {
      "cell_type": "code",
      "execution_count": null,
      "metadata": {
        "colab": {
          "base_uri": "https://localhost:8080/"
        },
        "id": "5_bUfe1rJbog",
        "outputId": "16201ac8-5b11-4c5f-e730-13b0da5fe5fb"
      },
      "outputs": [
        {
          "name": "stdout",
          "output_type": "stream",
          "text": [
            "[42  2  3  4  5]\n",
            "[42  2  3  4  5]\n"
          ]
        }
      ],
      "source": [
        "arr = np.array([1, 2, 3, 4, 5])\n",
        "x = arr.view()##viewing an array\n",
        "arr[0] = 42\n",
        "print(arr)\n",
        "print(x)"
      ]
    },
    {
      "cell_type": "code",
      "execution_count": null,
      "metadata": {
        "id": "Zt292XcfKD6E"
      },
      "outputs": [],
      "source": [
        "arr=np.array([1,2,3,4,5])\n",
        "x=arr.view()\n",
        "x[0]=9\n",
        "print(arr)\n",
        "print(x)"
      ]
    },
    {
      "cell_type": "code",
      "execution_count": null,
      "metadata": {
        "id": "Fk0TudW2KWLx"
      },
      "outputs": [],
      "source": [
        "arr=np.array([1,2,3,4,4])\n",
        "x=arr.view()## if array owns the data than it will return none\n",
        "y=arr.copy()\n",
        "print(x.base)\n",
        "print(y.base)\n",
        "print(arr.shape)"
      ]
    },
    {
      "cell_type": "markdown",
      "metadata": {
        "id": "H3FESTxzMluN"
      },
      "source": [
        "#shape of numpy array\n"
      ]
    },
    {
      "cell_type": "code",
      "execution_count": null,
      "metadata": {
        "id": "0KQU2xR6LD4K"
      },
      "outputs": [],
      "source": [
        "arr=np.array([[1,2,3,4,0],[5,6,7,8,9],[1,2,3,4,5]])\n",
        "print(\"shape of array\",arr.shape)"
      ]
    },
    {
      "cell_type": "markdown",
      "metadata": {
        "id": "kZp20GAoM2ye"
      },
      "source": [
        "#reshaping numpy arrays"
      ]
    },
    {
      "cell_type": "code",
      "execution_count": null,
      "metadata": {
        "id": "uSgL0P8_Mu2x"
      },
      "outputs": [],
      "source": [
        "arr=np.array([1,2,3,4,5,6,7,8,9,10,11,12])\n",
        "print(arr.shape)\n",
        "newarr=arr.reshape(4,3)\n",
        "print(arr.reshape(4,3).base)\n",
        "print(newarr)"
      ]
    },
    {
      "cell_type": "code",
      "execution_count": null,
      "metadata": {
        "id": "Jyt65dheNwdn"
      },
      "outputs": [],
      "source": [
        "arr=np.array([1,2,3,4,5,6,7,8,9,10,11,12])\n",
        "newarr=arr.reshape(2,3,2)\n",
        "print(newarr)"
      ]
    },
    {
      "cell_type": "markdown",
      "metadata": {
        "id": "xZbU9BENOx3M"
      },
      "source": [
        "#iterating a numpy array"
      ]
    },
    {
      "cell_type": "code",
      "execution_count": null,
      "metadata": {
        "colab": {
          "base_uri": "https://localhost:8080/"
        },
        "id": "WCN0g-lxOFbV",
        "outputId": "0d9ea291-dd2e-49e6-c435-25e48fdb1f03"
      },
      "outputs": [
        {
          "name": "stdout",
          "output_type": "stream",
          "text": [
            "1\n",
            "2\n",
            "3\n",
            "4\n",
            "5\n"
          ]
        },
        {
          "data": {
            "text/plain": [
              "[None, None, None, None, None]"
            ]
          },
          "execution_count": 2,
          "metadata": {},
          "output_type": "execute_result"
        }
      ],
      "source": [
        "arr=np.array([1,2,3,4,5])\n",
        "[print(x) for x in arr]"
      ]
    },
    {
      "cell_type": "code",
      "execution_count": null,
      "metadata": {
        "id": "_vLDa9KZPT6K"
      },
      "outputs": [],
      "source": [
        "arr = np.array([[1, 2, 3], [4, 5, 6]])\n",
        "[print(x) for x in arr]"
      ]
    },
    {
      "cell_type": "code",
      "execution_count": null,
      "metadata": {
        "id": "M5r3naKVPfqo"
      },
      "outputs": [],
      "source": [
        "arr = np.array([[1, 2, 3], [4, 5, 6]])#2-D array\n",
        "for x in arr:\n",
        "  for y in x:\n",
        "    print(y)"
      ]
    },
    {
      "cell_type": "code",
      "execution_count": null,
      "metadata": {
        "id": "L3Hg-Q1aRX9G"
      },
      "outputs": [],
      "source": [
        "arr = np.array([[[1, 2, 3], [4, 5, 6]], [[7, 8, 9], [10, 11, 12]]])\n",
        "for x in arr:\n",
        "  for y in x:\n",
        "    for z in y:\n",
        "      print(z)"
      ]
    },
    {
      "cell_type": "code",
      "execution_count": null,
      "metadata": {
        "colab": {
          "base_uri": "https://localhost:8080/"
        },
        "id": "sLwtXVTqRn68",
        "outputId": "06270124-afcd-41d6-de83-8d516938e112"
      },
      "outputs": [
        {
          "name": "stdout",
          "output_type": "stream",
          "text": [
            "1\n",
            "2\n",
            "3\n",
            "4\n",
            "5\n",
            "6\n",
            "7\n",
            "8\n",
            "9\n",
            "10\n",
            "11\n",
            "12\n"
          ]
        }
      ],
      "source": [
        "arr = np.array([[[1, 2, 3], [4, 5, 6]], [[7, 8, 9], [10, 11, 12]]])\n",
        "for x in np.nditer(arr):## same result obtained as above but in different method\n",
        "  print(x)"
      ]
    },
    {
      "cell_type": "code",
      "execution_count": null,
      "metadata": {
        "colab": {
          "base_uri": "https://localhost:8080/"
        },
        "id": "KovHAZ25S4OC",
        "outputId": "756cff05-7fbd-4239-bdfd-47c454305cd6"
      },
      "outputs": [
        {
          "name": "stdout",
          "output_type": "stream",
          "text": [
            "((0, 0), 1)\n",
            "((0, 1), 2)\n",
            "((0, 2), 3)\n",
            "((0, 3), 4)\n",
            "((1, 0), 5)\n",
            "((1, 1), 6)\n",
            "((1, 2), 7)\n",
            "((1, 3), 8)\n"
          ]
        }
      ],
      "source": [
        "\n",
        "arr = np.array([[1, 2, 3, 4], [5, 6, 7, 8]])\n",
        "\n",
        "for  x in np.ndenumerate(arr):\n",
        "  print(x)"
      ]
    },
    {
      "cell_type": "markdown",
      "metadata": {
        "id": "amqaV0mvTRio"
      },
      "source": [
        "# numpy array joining"
      ]
    },
    {
      "cell_type": "code",
      "execution_count": null,
      "metadata": {
        "id": "5F-1EeN9TN8d"
      },
      "outputs": [],
      "source": [
        "import numpy as np\n",
        "arr1=np.array([1,2,3])\n",
        "arr2=np.array([4,5,6])\n",
        "arr=np.concatenate((arr1,arr2))\n",
        "print(arr)"
      ]
    },
    {
      "cell_type": "code",
      "execution_count": null,
      "metadata": {
        "colab": {
          "base_uri": "https://localhost:8080/"
        },
        "id": "hrmrD4jAT6El",
        "outputId": "94dae289-afb4-4810-e1a6-2eecd53b20a9"
      },
      "outputs": [
        {
          "name": "stdout",
          "output_type": "stream",
          "text": [
            "[[1 2]\n",
            " [3 4]\n",
            " [5 6]\n",
            " [7 8]]\n"
          ]
        }
      ],
      "source": [
        "arr1 = np.array([[1, 2], [3, 4]])\n",
        "arr2 = np.array([[5, 6], [7, 8]])\n",
        "arr = np.concatenate((arr1, arr2), axis=0)##joining arrays using concatenate function\n",
        "print(arr)"
      ]
    },
    {
      "cell_type": "code",
      "execution_count": null,
      "metadata": {
        "colab": {
          "base_uri": "https://localhost:8080/"
        },
        "id": "S3IYg2P0S5Gt",
        "outputId": "522ca971-24b8-45aa-b197-47a2daa102e8"
      },
      "outputs": [
        {
          "name": "stdout",
          "output_type": "stream",
          "text": [
            "[[1 2 3]\n",
            " [4 5 6]]\n"
          ]
        }
      ],
      "source": [
        "arr1 = np.array([1, 2, 3])\n",
        "arr2 = np.array([4, 5, 6])\n",
        "arr=np.stack((arr1,arr2),axis=0)\n",
        "print(arr)"
      ]
    },
    {
      "cell_type": "code",
      "execution_count": null,
      "metadata": {
        "colab": {
          "base_uri": "https://localhost:8080/"
        },
        "id": "WSczPkYtTv5E",
        "outputId": "d41c585f-fd7d-47fa-e1ac-f5286f2f4d3b"
      },
      "outputs": [
        {
          "name": "stdout",
          "output_type": "stream",
          "text": [
            "[[ 1  2  3]\n",
            " [ 1  2  4]\n",
            " [ 6  7  8]\n",
            " [ 4  5  6]\n",
            " [ 2  3  4]\n",
            " [78 90 78]]\n"
          ]
        }
      ],
      "source": [
        "arr1 = np.array([[1, 2, 3],[1,2,4],[6,7,8]])\n",
        "arr2 = np.array([[4, 5, 6],[2,3,4],[78,90,78]])\n",
        "arr=np.concatenate((arr1,arr2),axis=0)\n",
        "print(arr)"
      ]
    },
    {
      "cell_type": "code",
      "execution_count": null,
      "metadata": {
        "colab": {
          "base_uri": "https://localhost:8080/"
        },
        "id": "LFCHYbQLUvfK",
        "outputId": "7db52dc7-73c9-494a-88dc-ed0147b668c7"
      },
      "outputs": [
        {
          "name": "stdout",
          "output_type": "stream",
          "text": [
            "[1 2 3 4 5 6]\n"
          ]
        }
      ],
      "source": [
        "arr1 = np.array([1, 2, 3])\n",
        "arr2 = np.array([4, 5, 6])\n",
        "arr=np.hstack((arr1,arr2))## using hstack axis1\n",
        "print(arr)"
      ]
    },
    {
      "cell_type": "code",
      "execution_count": null,
      "metadata": {
        "colab": {
          "base_uri": "https://localhost:8080/"
        },
        "id": "tiPsjLWYVEsh",
        "outputId": "231e4cad-ed5d-4d93-bdb8-dbe023222af4"
      },
      "outputs": [
        {
          "name": "stdout",
          "output_type": "stream",
          "text": [
            "[[ 1  2  3  4  5  6]\n",
            " [ 4  5  6  5  6  4]\n",
            " [ 7  8  9 34 55 45]]\n"
          ]
        }
      ],
      "source": [
        "arr1 = np.array([[1, 2, 3],[4,5,6],[7,8,9]])\n",
        "arr2 = np.array([[4, 5, 6],[5,6,4],[34,55,45]])\n",
        "arr=np.hstack((arr1,arr2))\n",
        "print(arr)"
      ]
    },
    {
      "cell_type": "code",
      "execution_count": null,
      "metadata": {
        "colab": {
          "base_uri": "https://localhost:8080/"
        },
        "id": "5q-000YJVY5f",
        "outputId": "a7a4094a-80fd-4816-9949-987d7f8b247a"
      },
      "outputs": [
        {
          "name": "stdout",
          "output_type": "stream",
          "text": [
            "[[1 2 3]\n",
            " [4 5 6]]\n"
          ]
        }
      ],
      "source": [
        "arr1 = np.array([1, 2, 3])\n",
        "arr2 = np.array([4, 5, 6])\n",
        "arr=np.vstack((arr1,arr2))#vstacking axis0\n",
        "print(arr)"
      ]
    },
    {
      "cell_type": "code",
      "execution_count": null,
      "metadata": {
        "colab": {
          "base_uri": "https://localhost:8080/"
        },
        "id": "apJ1LPCzV63K",
        "outputId": "11b81b3e-66db-4098-93e1-ec00875c588d"
      },
      "outputs": [
        {
          "name": "stdout",
          "output_type": "stream",
          "text": [
            "[[[ 1  4]\n",
            "  [ 2  5]\n",
            "  [ 3  6]]\n",
            "\n",
            " [[ 5  4]\n",
            "  [ 6  5]\n",
            "  [ 7  6]]\n",
            "\n",
            " [[ 7 90]\n",
            "  [ 8  6]\n",
            "  [ 9  5]]]\n"
          ]
        }
      ],
      "source": [
        "arr1 = np.array([[1, 2, 3],[5,6,7],[7,8,9]])\n",
        "arr2 = np.array([[4, 5, 6],[4,5,6],[90,6,5]])#dstackinhg\n",
        "# v=np.hstack((arr1,arr2))\n",
        "# print(v)\n",
        "arr=np.dstack((arr1,arr2))\n",
        "print(arr)"
      ]
    },
    {
      "cell_type": "markdown",
      "metadata": {
        "id": "-9fKKJ6mYUEu"
      },
      "source": [
        "# splitting of arrays"
      ]
    },
    {
      "cell_type": "code",
      "execution_count": null,
      "metadata": {
        "colab": {
          "base_uri": "https://localhost:8080/"
        },
        "id": "B3JxIZXoXI3B",
        "outputId": "46ac08ca-884b-44cf-e55d-3f2409e48ad3"
      },
      "outputs": [
        {
          "name": "stdout",
          "output_type": "stream",
          "text": [
            "[array([1, 2]), array([3, 3]), array([4, 4]), array([5])]\n"
          ]
        },
        {
          "data": {
            "text/plain": [
              "array([1, 2])"
            ]
          },
          "execution_count": 31,
          "metadata": {},
          "output_type": "execute_result"
        }
      ],
      "source": [
        "arr=np.array([1,2,3,3,4,4,5])\n",
        "newarr=np.array_split(arr,4)\n",
        "print(newarr)\n",
        "newarr[0]##accessing splitted array"
      ]
    },
    {
      "cell_type": "code",
      "execution_count": null,
      "metadata": {
        "id": "4KmkQ5INX8G7"
      },
      "outputs": [],
      "source": [
        "arr = np.array([[1, 2], [3, 4], [5, 6], [7, 8], [9, 10], [11, 12]])##splitting of 2-D arrays\n",
        "newarr=np.array_split(arr,6)\n",
        "print(newarr)\n",
        "# accesssing 5th array\n",
        "newarr[4]"
      ]
    },
    {
      "cell_type": "code",
      "execution_count": null,
      "metadata": {
        "id": "qR_nBWjwY_L7"
      },
      "outputs": [],
      "source": [
        "arr = np.array([[1, 2, 3], [4, 5, 6], [7, 8, 9], [10, 11, 12], [13, 14, 15], [16, 17, 18]])\n",
        "newarr=np.array_split(arr,3)\n",
        "print(newarr)\n",
        "newarr[0][1][2]##accessing elements of a specified array"
      ]
    },
    {
      "cell_type": "code",
      "execution_count": null,
      "metadata": {
        "colab": {
          "base_uri": "https://localhost:8080/"
        },
        "id": "Ld9Ty83mYolX",
        "outputId": "e6a23ed3-ebd8-4612-9335-dd27c2756831"
      },
      "outputs": [
        {
          "name": "stdout",
          "output_type": "stream",
          "text": [
            "[array([[1, 2, 3],\n",
            "       [4, 5, 6]]), array([[ 7,  8,  9],\n",
            "       [10, 11, 12]]), array([[13, 14, 15],\n",
            "       [16, 17, 18]])]\n"
          ]
        }
      ],
      "source": [
        "arr = np.array([[1, 2, 3], [4, 5, 6], [7, 8, 9], [10, 11, 12], [13, 14, 15], [16, 17, 18]])\n",
        "new=np.vsplit(arr,3)\n",
        "print(new)"
      ]
    },
    {
      "cell_type": "code",
      "execution_count": null,
      "metadata": {
        "colab": {
          "base_uri": "https://localhost:8080/"
        },
        "id": "cdh3Px39Zm7W",
        "outputId": "6311ec44-8d23-424e-db03-904d859b7cbf"
      },
      "outputs": [
        {
          "name": "stdout",
          "output_type": "stream",
          "text": [
            "[array([[ 1],\n",
            "       [ 4],\n",
            "       [ 7],\n",
            "       [10],\n",
            "       [13],\n",
            "       [16]]), array([[ 2],\n",
            "       [ 5],\n",
            "       [ 8],\n",
            "       [11],\n",
            "       [14],\n",
            "       [17]]), array([[ 3],\n",
            "       [ 6],\n",
            "       [ 9],\n",
            "       [12],\n",
            "       [15],\n",
            "       [18]])]\n"
          ]
        }
      ],
      "source": [
        "arr = np.array([[1, 2, 3], [4, 5, 6], [7, 8, 9], [10, 11, 12], [13, 14, 15], [16, 17, 18]])\n",
        "newarr=np.hsplit(arr,3) ## hsplit is used to get the ouput as below\n",
        "print(newarr)"
      ]
    },
    {
      "cell_type": "markdown",
      "metadata": {
        "id": "_Ft6_xpYbBB4"
      },
      "source": [
        "# array searching in numpy\n",
        "## in numpy searching we weill only get indexes as ouput"
      ]
    },
    {
      "cell_type": "code",
      "execution_count": null,
      "metadata": {
        "id": "57SmppRqa0Wa"
      },
      "outputs": [],
      "source": [
        "arr = np.array([1, 2, 3, 4, 5, 4, 4])\n",
        "newarr=np.where(arr==4)\n",
        "print(newarr)## ouput will gives the indexes where 4 is present"
      ]
    },
    {
      "cell_type": "code",
      "execution_count": null,
      "metadata": {
        "colab": {
          "base_uri": "https://localhost:8080/"
        },
        "id": "9NAWOvSubRQO",
        "outputId": "b8b4a50e-2c90-4cbf-c89f-a0ea25aa851c"
      },
      "outputs": [
        {
          "name": "stdout",
          "output_type": "stream",
          "text": [
            "(array([1, 3, 5, 6]),)\n"
          ]
        }
      ],
      "source": [
        "arr = np.array([1, 2, 3, 4, 5, 4, 4])\n",
        "newarr=np.where(arr%2==0)\n",
        "print(newarr)# ouput will gives the indexes where condition is satisfied by the numbers"
      ]
    },
    {
      "cell_type": "code",
      "execution_count": null,
      "metadata": {
        "colab": {
          "base_uri": "https://localhost:8080/"
        },
        "id": "t1ShWQincAta",
        "outputId": "1f449407-ebe8-476a-ceb2-402c39d91a85"
      },
      "outputs": [
        {
          "name": "stdout",
          "output_type": "stream",
          "text": [
            "7\n"
          ]
        }
      ],
      "source": [
        "arr = np.array([1, 2, 3, 4, 5, 4, 4])\n",
        "newarr=np.searchsorted(arr,5)## in this method first it will sort the array and than it will gives the indexes as output\n",
        "print(newarr)"
      ]
    },
    {
      "cell_type": "code",
      "execution_count": null,
      "metadata": {
        "id": "JRzpJPkkiA_a"
      },
      "outputs": [],
      "source": [
        "arr=np.array([7,8,3,4,5,6,9,2,3,1,5,6])\n",
        "print(len(arr))\n",
        "x=np.searchsorted(arr,3)\n",
        "print(x)"
      ]
    },
    {
      "cell_type": "code",
      "execution_count": null,
      "metadata": {
        "id": "W-ThUSH3c8Ex"
      },
      "outputs": [],
      "source": [
        "arr = np.array([6,7,8,9])\n",
        "newarr=np.searchsorted(arr,7,side='right')## searchsorting from right side\n",
        "print(newarr)\n",
        "newarr=np.searchsorted(arr,7,side='left')# searchsorting from left side\n",
        "print(newarr)"
      ]
    },
    {
      "cell_type": "code",
      "execution_count": null,
      "metadata": {
        "colab": {
          "base_uri": "https://localhost:8080/"
        },
        "id": "5VZx8lzqd4qJ",
        "outputId": "9643174d-8b1b-47e0-c470-8610d739fef6"
      },
      "outputs": [
        {
          "name": "stdout",
          "output_type": "stream",
          "text": [
            "[1 1 1 1]\n"
          ]
        }
      ],
      "source": [
        "arr=np.array([1,6,7,8,3,5])\n",
        "newarr=np.searchsorted(arr,[2,3,5,6])### this will returns the indexes where the mention valued can be placed\n",
        "print(newarr)"
      ]
    },
    {
      "cell_type": "markdown",
      "metadata": {
        "id": "qRj7gLSoeuVf"
      },
      "source": [
        "# numpy array sorting"
      ]
    },
    {
      "cell_type": "code",
      "execution_count": null,
      "metadata": {
        "colab": {
          "base_uri": "https://localhost:8080/"
        },
        "id": "A8mydovDem2G",
        "outputId": "be1dbcc6-8818-4728-ad64-7655175904cd"
      },
      "outputs": [
        {
          "name": "stdout",
          "output_type": "stream",
          "text": [
            "None\n"
          ]
        }
      ],
      "source": [
        "arr=np.array([6,3,4,6,7,7,1,2,7])\n",
        "# print(np.sort(arr))## sortinag"
      ]
    },
    {
      "cell_type": "code",
      "execution_count": null,
      "metadata": {
        "id": "AjOo4stJfNgF"
      },
      "outputs": [],
      "source": [
        "arr = np.array([[3, 2, 4], [5, 0, 1],[5,32,4]])\n",
        "print(np.sort(arr))##sorting 2-D arrays"
      ]
    },
    {
      "cell_type": "markdown",
      "metadata": {
        "id": "Nqp7L5vkgFst"
      },
      "source": [
        "# filtering numpy arrays"
      ]
    },
    {
      "cell_type": "code",
      "execution_count": null,
      "metadata": {
        "id": "W4xRaIuTfaCC"
      },
      "outputs": [],
      "source": [
        "arr=np.array([3,4,5,62,3,4,5])\n",
        "print(len(arr))\n",
        "x=[False,True,False,True,True,False,False]##acceessing elements using boolean values\n",
        "newarr=arr[x]##mandatory\n",
        "print(newarr)"
      ]
    },
    {
      "cell_type": "code",
      "execution_count": null,
      "metadata": {
        "id": "t3A2burxgjIK"
      },
      "outputs": [],
      "source": [
        "##example\n",
        "# Create a filter array that will return only values higher than 42\n",
        "arr=np.array([41,44,45,46,67,34,67,56])\n",
        "print(len(arr))\n",
        "filter_array=[]\n",
        "for x in arr:\n",
        "  if x>42:\n",
        "    filter_array.append(x)\n",
        "print(filter_array)"
      ]
    },
    {
      "cell_type": "code",
      "execution_count": null,
      "metadata": {
        "colab": {
          "base_uri": "https://localhost:8080/"
        },
        "id": "cySpQ-GYjORc",
        "outputId": "e5aef4b1-470e-4eeb-e993-e7573ab892ce"
      },
      "outputs": [
        {
          "name": "stdout",
          "output_type": "stream",
          "text": [
            "8\n",
            "[44, 46, 34, 56]\n"
          ]
        }
      ],
      "source": [
        "# Create a filter array that will return only even elements from the original array\n",
        "arr=np.array([41,44,45,46,67,34,67,56])\n",
        "print(len(arr))\n",
        "filter_array=[]\n",
        "for x in arr:\n",
        "  if x%2==0:\n",
        "    filter_array.append(x)\n",
        "print(filter_array)"
      ]
    },
    {
      "cell_type": "code",
      "execution_count": null,
      "metadata": {
        "colab": {
          "base_uri": "https://localhost:8080/"
        },
        "id": "7Cd6vGtoj6LK",
        "outputId": "be16e026-8780-4e9a-aa41-4f288d05663f"
      },
      "outputs": [
        {
          "name": "stdout",
          "output_type": "stream",
          "text": [
            "[44 45 46 67 67 56]\n"
          ]
        }
      ],
      "source": [
        "arr=np.array([41,44,45,46,67,34,67,56])\n",
        "filter_array=arr>42\n",
        "new_arr=arr[filter_array]## filtering without using for loop\n",
        "print(new_arr)"
      ]
    },
    {
      "cell_type": "code",
      "execution_count": null,
      "metadata": {
        "colab": {
          "base_uri": "https://localhost:8080/"
        },
        "id": "r5HGi2XvoqRl",
        "outputId": "a6e633df-aaab-479b-d083-bb4ed410155f"
      },
      "outputs": [
        {
          "name": "stdout",
          "output_type": "stream",
          "text": [
            "enter the cvalues123445\n",
            "['123445']\n",
            "['123445']\n"
          ]
        }
      ],
      "source": [
        "v=[]\n",
        "v.append((input(\"enter the cvalues\")))\n",
        "print(list(v))\n",
        "print(np.sort(v))"
      ]
    },
    {
      "cell_type": "code",
      "execution_count": null,
      "metadata": {
        "id": "WARSz1JAsJjj"
      },
      "outputs": [],
      "source": [
        "arr=np.array([[6,4,9],[8,9,9],[7,9,9]])\n",
        "product=np.dot(arr,arr)## matrixmutiplication by using dot operator\n",
        "print(product)\n",
        "r=arr@arr##shortcut for matrix multiplication\n",
        "print(r)"
      ]
    },
    {
      "cell_type": "code",
      "execution_count": null,
      "metadata": {
        "id": "Yxa7bJnQuj5-"
      },
      "outputs": [],
      "source": [
        "arr = np.array([[1, 2, 3, 4, 5, 6], [7, 8, 9, 10, 11, 12]])\n",
        "arr.reshape(-1)## converting 2-D unto 1-D\n"
      ]
    },
    {
      "cell_type": "code",
      "execution_count": null,
      "metadata": {
        "colab": {
          "base_uri": "https://localhost:8080/"
        },
        "id": "OJiq185BzgDg",
        "outputId": "a1d56186-afb8-4020-a4d9-2e5c7940f1e9"
      },
      "outputs": [
        {
          "name": "stdout",
          "output_type": "stream",
          "text": [
            "[[   1  200    3    4   17]\n",
            " [ 166    4   30    4    5]\n",
            " [  71   20    6    4   12]\n",
            " [  61    9    3    9    5]\n",
            " [1050   20    9    4 1000]\n",
            " [1050   20    9    9 1000]]\n",
            "(6, 5)\n"
          ]
        },
        {
          "data": {
            "text/plain": [
              "array([399.83333333,  45.5       ,  10.        ,   5.66666667,\n",
              "       339.83333333])"
            ]
          },
          "execution_count": 21,
          "metadata": {},
          "output_type": "execute_result"
        }
      ],
      "source": [
        "data = np.array(\n",
        "    [[1, 200, 3, 4, 17],\n",
        "      [166, 4, 30, 4, 5],\n",
        "      [71, 20, 6, 4, 12],\n",
        "      [61, 9, 3, 9, 5],\n",
        "      [1050, 20, 9, 4, 1000],\n",
        "      [1050, 20, 9, 9, 1000] ]\n",
        "                )\n",
        "print(data)\n",
        "print(data.shape)\n",
        "np.mean(data,axis=0)"
      ]
    },
    {
      "cell_type": "code",
      "execution_count": null,
      "metadata": {
        "colab": {
          "base_uri": "https://localhost:8080/"
        },
        "id": "WQYe89a10Jpz",
        "outputId": "aed7226b-9f95-4c7b-fd67-584dabf41188"
      },
      "outputs": [
        {
          "name": "stdout",
          "output_type": "stream",
          "text": [
            "9000\n",
            "[1770  200   30   45 9000]\n",
            "[ 200  166   71   61 1050 9000]\n"
          ]
        }
      ],
      "source": [
        "data = np.array(\n",
        "    [[1, 200, 3, 4, 17],\n",
        "      [166, 4, 30, 4, 5],\n",
        "      [71, 20, 6, 4, 12],\n",
        "      [61, 9, 3, 0, 5],\n",
        "      [1050, 20, 9, 4, 1000],\n",
        "     [1770, 120, 29, 45, 9000]]\n",
        "                )\n",
        "# print(np.mean(data))\n",
        "# print(np.mean(data,axis=1))\n",
        "# print(np.mean(data,axis=0))\n",
        "print(np.max(data))\n",
        "print(np.max(data,axis=0))\n",
        "print(np.max(data,axis=1))"
      ]
    },
    {
      "cell_type": "code",
      "execution_count": null,
      "metadata": {
        "colab": {
          "base_uri": "https://localhost:8080/"
        },
        "id": "yitl6TKC3KfC",
        "outputId": "b682a763-8c89-449a-83bc-c00d969f0cd6"
      },
      "outputs": [
        {
          "name": "stdout",
          "output_type": "stream",
          "text": [
            "[1 3]\n"
          ]
        }
      ],
      "source": [
        "arr1 = np.array([1, 2, 3])\n",
        "arr2 = np.array([2, 2, 4])\n",
        "v=arr1<arr2\n",
        "new=arr1[v]\n",
        "print(new)"
      ]
    },
    {
      "cell_type": "code",
      "execution_count": null,
      "metadata": {
        "id": "dgaIeTuuZNgb"
      },
      "outputs": [],
      "source": [
        "arr=np.random.rand(3,4)\n",
        "print(arr)"
      ]
    },
    {
      "cell_type": "code",
      "execution_count": null,
      "metadata": {
        "colab": {
          "base_uri": "https://localhost:8080/"
        },
        "id": "BJ4ceTosaYnf",
        "outputId": "9f44470d-20f3-4f5a-d7a5-661d1f69e63e"
      },
      "outputs": [
        {
          "name": "stdout",
          "output_type": "stream",
          "text": [
            "5\n"
          ]
        }
      ],
      "source": [
        "print(np.max(arr,axis=0))"
      ]
    },
    {
      "cell_type": "code",
      "execution_count": null,
      "metadata": {
        "id": "sJm4HB6kagZ_"
      },
      "outputs": [],
      "source": [
        "print(np.max(arr,axis=1))"
      ]
    },
    {
      "cell_type": "code",
      "execution_count": null,
      "metadata": {
        "colab": {
          "background_save": true,
          "base_uri": "https://localhost:8080/"
        },
        "id": "LJRCk6T6ma-y",
        "outputId": "d6bd9a52-7a1c-43c8-f467-c196fbb0e735"
      },
      "outputs": [
        {
          "name": "stdout",
          "output_type": "stream",
          "text": [
            "[[[1 7]\n",
            "  [2 6]\n",
            "  [3 3]]\n",
            "\n",
            " [[7 2]\n",
            "  [8 3]\n",
            "  [9 2]]]\n",
            "3\n"
          ]
        }
      ],
      "source": [
        "v=np.array([[1,2,3],[7,8,9]])\n",
        "n=np.array([[7,6,3],[2,3,2]])\n",
        "# arr=np.vstack((v,n))\n",
        "# print(arr)\n",
        "# arr=np.hstack((v,n))\n",
        "# print(arr)\n",
        "arr=np.dstack((v,n))\n",
        "print(arr)\n",
        "print(arr.ndim)"
      ]
    },
    {
      "cell_type": "code",
      "execution_count": null,
      "metadata": {
        "colab": {
          "base_uri": "https://localhost:8080/"
        },
        "id": "u-9IhrIE4UIK",
        "outputId": "f60d81fe-d653-42b8-bca0-8d24c86f675f"
      },
      "outputs": [
        {
          "name": "stdout",
          "output_type": "stream",
          "text": [
            "[[[0.84777457 0.12638233 0.74746398 0.16754363]\n",
            "  [0.03211295 0.53178773 0.20862375 0.72245443]\n",
            "  [0.39117879 0.07439833 0.56092889 0.30811877]]\n",
            "\n",
            " [[0.99114705 0.28650899 0.65456897 0.66818979]\n",
            "  [0.64682861 0.29525193 0.10903199 0.07328793]\n",
            "  [0.23397628 0.09783843 0.13201397 0.48711838]]\n",
            "\n",
            " [[0.34247368 0.65396591 0.44553837 0.45403216]\n",
            "  [0.98411961 0.93776674 0.86850306 0.48764992]\n",
            "  [0.77777837 0.47351109 0.54057251 0.69840508]]\n",
            "\n",
            " [[0.10013252 0.80663413 0.14326294 0.21855692]\n",
            "  [0.24128492 0.02316    0.42260517 0.32295455]\n",
            "  [0.28703067 0.13395996 0.16319299 0.75200835]]]\n",
            "<class 'numpy.ndarray'>\n"
          ]
        }
      ],
      "source": [
        "import numpy as np\n",
        "arr3d=np.random.rand(4,3,4)## last two values represents rows and columns where first value represent no of sets we want\n",
        "print(arr3d)\n",
        "print(type(arr3d))"
      ]
    },
    {
      "cell_type": "code",
      "execution_count": null,
      "metadata": {
        "colab": {
          "base_uri": "https://localhost:8080/",
          "height": 242
        },
        "id": "a-81Zqtqakpd",
        "outputId": "fd6350ce-9cd9-4386-afc6-6f99cfb1a5b2"
      },
      "outputs": [
        {
          "ename": "NameError",
          "evalue": "ignored",
          "output_type": "error",
          "traceback": [
            "\u001b[0;31m---------------------------------------------------------------------------\u001b[0m",
            "\u001b[0;31mNameError\u001b[0m                                 Traceback (most recent call last)",
            "\u001b[0;32m<ipython-input-29-171b025361cf>\u001b[0m in \u001b[0;36m<cell line: 1>\u001b[0;34m()\u001b[0m\n\u001b[0;32m----> 1\u001b[0;31m \u001b[0mprint\u001b[0m\u001b[0;34m(\u001b[0m\u001b[0marr3d\u001b[0m\u001b[0;34m.\u001b[0m\u001b[0mshape\u001b[0m\u001b[0;34m)\u001b[0m\u001b[0;34m\u001b[0m\u001b[0;34m\u001b[0m\u001b[0m\n\u001b[0m\u001b[1;32m      2\u001b[0m \u001b[0mv\u001b[0m\u001b[0;34m=\u001b[0m\u001b[0mnp\u001b[0m\u001b[0;34m.\u001b[0m\u001b[0mmax\u001b[0m\u001b[0;34m(\u001b[0m\u001b[0marr3d\u001b[0m\u001b[0;34m)\u001b[0m\u001b[0;34m\u001b[0m\u001b[0;34m\u001b[0m\u001b[0m\n\u001b[1;32m      3\u001b[0m \u001b[0mprint\u001b[0m\u001b[0;34m(\u001b[0m\u001b[0mv\u001b[0m\u001b[0;34m.\u001b[0m\u001b[0mshape\u001b[0m\u001b[0;34m)\u001b[0m\u001b[0;34m\u001b[0m\u001b[0;34m\u001b[0m\u001b[0m\n\u001b[1;32m      4\u001b[0m \u001b[0mt\u001b[0m\u001b[0;34m=\u001b[0m\u001b[0mnp\u001b[0m\u001b[0;34m.\u001b[0m\u001b[0mmax\u001b[0m\u001b[0;34m(\u001b[0m\u001b[0marr3d\u001b[0m\u001b[0;34m,\u001b[0m\u001b[0maxis\u001b[0m\u001b[0;34m=\u001b[0m\u001b[0;36m0\u001b[0m\u001b[0;34m)\u001b[0m\u001b[0;31m#it will compare fisrt element with other matrices(i.e submatrices in 3-D array) first elemenet and than prints maximum value\u001b[0m\u001b[0;34m\u001b[0m\u001b[0;34m\u001b[0m\u001b[0m\n\u001b[1;32m      5\u001b[0m \u001b[0mprint\u001b[0m\u001b[0;34m(\u001b[0m\u001b[0mt\u001b[0m\u001b[0;34m.\u001b[0m\u001b[0mshape\u001b[0m\u001b[0;34m)\u001b[0m\u001b[0;34m\u001b[0m\u001b[0;34m\u001b[0m\u001b[0m\n",
            "\u001b[0;31mNameError\u001b[0m: name 'arr3d' is not defined"
          ]
        }
      ],
      "source": [
        "print(arr3d.shape)\n",
        "v=np.max(arr3d)\n",
        "print(v.shape)\n",
        "t=np.max(arr3d,axis=0)#it will compare fisrt element with other matrices(i.e submatrices in 3-D array) first elemenet and than prints maximum value\n",
        "print(t.shape)\n",
        "print(t)\n",
        "s=np.max(arr3d,axis=1)#it will give maximum of a paticular matrix column in 3-D array and vice versa\n",
        "print(s.shape)\n",
        "print(s)\n",
        "n=np.max(arr3d,axis=2)#it will compare fisrt row and than displays maximum value and vice versa.\n",
        "print(n.shape)\n",
        "print(n)"
      ]
    },
    {
      "cell_type": "code",
      "execution_count": null,
      "metadata": {
        "id": "wJp_8X7maqt8"
      },
      "outputs": [],
      "source": [
        "arr=np.array([[1,2,3],[4,5,6]])\n",
        "print(arr.reshape(3,2))##reshaping\n",
        "print(arr.transpose())## transposing\n",
        "print(arr.shape)\n",
        "print(arr.T)## second method for transposing mostly used in programming"
      ]
    },
    {
      "cell_type": "code",
      "execution_count": null,
      "metadata": {
        "id": "FKM6UOx87NBw"
      },
      "outputs": [],
      "source": [
        "#flatten\n",
        "flat=arr.reshape(6)\n",
        "print(flat)\n",
        "print(flat.shape)\n",
        "flat1=arr.reshape(-1)## different value and result is same\n",
        "print(flat1)## different\n",
        "print(flat.shape)"
      ]
    },
    {
      "cell_type": "code",
      "execution_count": null,
      "metadata": {
        "id": "vB3c-qouAqj0"
      },
      "outputs": [],
      "source": [
        "arr=np.array([1,2,3,4,5])\n",
        "print(np.square(arr))\n",
        "print(np.exp(arr))"
      ]
    },
    {
      "cell_type": "code",
      "execution_count": null,
      "metadata": {
        "colab": {
          "base_uri": "https://localhost:8080/"
        },
        "id": "PMa6t-MmVO9-",
        "outputId": "c612a624-b36e-4b4f-89cd-17ac5e1c53ed"
      },
      "outputs": [
        {
          "name": "stdout",
          "output_type": "stream",
          "text": [
            "[[[1 2]\n",
            "  [3 4]]\n",
            "\n",
            " [[2 3]\n",
            "  [4 5]]]\n",
            "\n",
            " [[3 5]\n",
            " [7 9]]\n",
            "\n",
            " [[4 6]\n",
            " [6 8]]\n",
            "\n",
            " [[3 7]\n",
            " [5 9]]\n"
          ]
        }
      ],
      "source": [
        "import numpy as np\n",
        "arr=np.array([[[1,2],\n",
        "               [3,4]],\n",
        "              [[2,3],\n",
        "               [4,5]]])\n",
        "print(arr)\n",
        "print(\"\\n\",np.sum(arr,axis=0))##summing a 3-D using axis\n",
        "print(\"\\n\",np.sum(arr,axis=1))\n",
        "print('\\n',np.sum(arr,axis=2))"
      ]
    },
    {
      "cell_type": "code",
      "execution_count": null,
      "metadata": {
        "id": "Qu7NgVd6bDQe"
      },
      "outputs": [],
      "source": []
    }
  ],
  "metadata": {
    "colab": {
      "provenance": [],
      "authorship_tag": "ABX9TyOJrBizhz3/Z9zDi99eu09x",
      "include_colab_link": true
    },
    "kernelspec": {
      "display_name": "Python 3",
      "name": "python3"
    },
    "language_info": {
      "name": "python"
    }
  },
  "nbformat": 4,
  "nbformat_minor": 0
}